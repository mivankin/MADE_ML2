{
 "cells": [
  {
   "cell_type": "markdown",
   "metadata": {},
   "source": [
    "# Продвинутое машинное обучение: \n",
    "## Домашнее задание 2\n"
   ]
  },
  {
   "cell_type": "code",
   "execution_count": 1,
   "metadata": {},
   "outputs": [],
   "source": [
    "from collections import defaultdict\n",
    "from tqdm.notebook import tqdm\n",
    "import json\n",
    "import pickle\n",
    "import pandas as pd\n",
    "import numpy as np\n",
    "import sklearn\n",
    "import scipy\n",
    "from scipy.sparse import hstack\n",
    "from scipy.sparse import vstack\n",
    "from scipy.stats.mstats import spearmanr\n",
    "from scipy.stats.mstats import kendalltau\n",
    "\n",
    "from sklearn.linear_model import LogisticRegression"
   ]
  },
  {
   "cell_type": "markdown",
   "metadata": {},
   "source": [
    "## 1. Прочитайте и проанализируйте данные, выберите турниры, в которых есть данные о составах команд и повопросных результатах (поле mask в results.pkl). \n"
   ]
  },
  {
   "cell_type": "code",
   "execution_count": 2,
   "metadata": {},
   "outputs": [],
   "source": [
    "tournaments = pickle.load(open('tournaments.pkl', 'rb'))\n",
    "players = pickle.load(open('players.pkl', 'rb'))\n",
    "results = pickle.load(open('results.pkl', 'rb'))"
   ]
  },
  {
   "cell_type": "markdown",
   "metadata": {},
   "source": [
    "Изначально посмотрел, какие данные есть и что они из себя представляют. Попробовал посмотреть случайный турнир"
   ]
  },
  {
   "cell_type": "code",
   "execution_count": 3,
   "metadata": {},
   "outputs": [
    {
     "data": {
      "text/plain": [
       "{'id': 5443,\n",
       " 'name': 'Vilnius Open',\n",
       " 'dateStart': '2019-05-04T14:00:00+03:00',\n",
       " 'dateEnd': '2019-05-05T15:00:00+03:00',\n",
       " 'type': {'id': 2, 'name': 'Обычный'},\n",
       " 'season': '/seasons/52',\n",
       " 'orgcommittee': [{'id': 26382,\n",
       "   'name': 'Рихард',\n",
       "   'patronymic': 'Юрьевич',\n",
       "   'surname': 'Пфейфле'},\n",
       "  {'id': 73380,\n",
       "   'name': 'Олег',\n",
       "   'patronymic': 'Олегович',\n",
       "   'surname': 'Сероухов'}],\n",
       " 'synchData': None,\n",
       " 'questionQty': {'1': 15, '2': 15, '3': 15, '4': 15}}"
      ]
     },
     "execution_count": 3,
     "metadata": {},
     "output_type": "execute_result"
    }
   ],
   "source": [
    "tournaments[5443]"
   ]
  },
  {
   "cell_type": "markdown",
   "metadata": {},
   "source": [
    "Думал, что пригодится информация о типах турнира, но в итоге я это никак не использовал, но посмотрел."
   ]
  },
  {
   "cell_type": "code",
   "execution_count": 4,
   "metadata": {},
   "outputs": [
    {
     "data": {
      "text/plain": [
       "{2: 'Обычный',\n",
       " 3: 'Синхрон',\n",
       " 4: 'Региональный',\n",
       " 10: 'Марафон',\n",
       " 8: 'Асинхрон',\n",
       " 1: 'Неизвестный',\n",
       " 6: 'Строго синхронный',\n",
       " 5: 'Общий зачёт'}"
      ]
     },
     "execution_count": 4,
     "metadata": {},
     "output_type": "execute_result"
    }
   ],
   "source": [
    "types_id = dict()\n",
    "for i in tournaments:\n",
    "    types_id[tournaments[i]['type']['id']] = tournaments[i]['type']['name']\n",
    "    \n",
    "types_id"
   ]
  },
  {
   "cell_type": "markdown",
   "metadata": {},
   "source": [
    "Решил попарсить данные и собрать датафрейм, чтобы удобнее было анализировать. Как то изначально сразу было решено, что буду объединять id игроков по клубам. В итоге в дальнейшем именно этот подход пригодился, а имя и фамилию в принципе можно всегда забрать по id из players."
   ]
  },
  {
   "cell_type": "code",
   "execution_count": 46,
   "metadata": {},
   "outputs": [],
   "source": [
    "def build_db_without_players_for_test(tournaments, results, players, year):\n",
    "    t_names = list()\n",
    "    t_id = list()\n",
    "    t_type_id = list()\n",
    "    t_type_name = list()\n",
    "\n",
    "    club_id = list()\n",
    "    club_place = list()\n",
    "    club_points = list()\n",
    "    club_names = list()\n",
    "    club_players = list()\n",
    "\n",
    "    mask = list()\n",
    "\n",
    "    none_count = 0\n",
    "    tournaments_count = 0\n",
    "    \n",
    "    drop_flag = False\n",
    "\n",
    "    for i in tournaments:\n",
    "        if drop_flag:\n",
    "            none_count += 1\n",
    "            drop_flag = False\n",
    "        if tournaments[i]['dateStart'][:4] == str(year):\n",
    "            tournaments_count += 1\n",
    "            mask_flag = True\n",
    "            for j in results[tournaments[i]['id']]:\n",
    "                try:\n",
    "                    if sum(tournaments[i]['questionQty'].values()) != len(j['mask']) and len(results[tournaments[i]['id']]) != 0:\n",
    "                        mask_flag = False\n",
    "                        break\n",
    "                except Exception:\n",
    "                    mask_flag = False\n",
    "                    none_count += 1\n",
    "                    break\n",
    "            if len(results[tournaments[i]['id']]) == 0:\n",
    "                mask_flag = False                    \n",
    "            if mask_flag is True:\n",
    "                for j in results[tournaments[i]['id']]:\n",
    "                    try:\n",
    "                        tmp_mask = int(j['mask'])\n",
    "                        mask.append(j['mask'])\n",
    "                        club_points.append(j['questionsTotal'])\n",
    "                        club_place.append(j['position'])\n",
    "                    except Exception:\n",
    "                        drop_flag = True\n",
    "                        continue\n",
    "\n",
    "                    t_type_id.append(tournaments[i]['type']['id'])\n",
    "                    t_type_name.append(tournaments[i]['type']['name'])\n",
    "\n",
    "                    t_names.append(tournaments[i]['name'])\n",
    "                    t_id.append(tournaments[i]['id'])\n",
    "                    club_id.append(j['team']['id'])\n",
    "                    club_names.append(j['team']['name'])\n",
    "\n",
    "                    ans = list()\n",
    "                    for k in j['teamMembers']:\n",
    "                        ans.append(k['player']['id'])\n",
    "\n",
    "                    club_players.append(ans)   \n",
    "                \n",
    "\n",
    "    db_f = pd.DataFrame(np.c_[t_id, t_names, t_type_id, t_type_name, club_id, club_names, club_players, mask, club_points, club_place])\n",
    "    db_f.columns = ['tournament id', 'tournament name', 'type id', 'type name', 'club id', 'club name', 'players id', 'mask', 'points', 'place']\n",
    "\n",
    "    print('Выкинули турниров: ', none_count)\n",
    "    return db_f, t_id"
   ]
  },
  {
   "cell_type": "code",
   "execution_count": 6,
   "metadata": {},
   "outputs": [
    {
     "name": "stderr",
     "output_type": "stream",
     "text": [
      "C:\\Users\\MishaYuliaAlina\\Anaconda3\\lib\\site-packages\\numpy\\core\\_asarray.py:102: VisibleDeprecationWarning: Creating an ndarray from ragged nested sequences (which is a list-or-tuple of lists-or-tuples-or ndarrays with different lengths or shapes) is deprecated. If you meant to do this, you must specify 'dtype=object' when creating the ndarray.\n",
      "  return array(a, dtype, copy=False, order=order)\n",
      "C:\\Users\\MishaYuliaAlina\\Anaconda3\\lib\\site-packages\\numpy\\lib\\index_tricks.py:388: VisibleDeprecationWarning: Creating an ndarray from ragged nested sequences (which is a list-or-tuple of lists-or-tuples-or ndarrays with different lengths or shapes) is deprecated. If you meant to do this, you must specify 'dtype=object' when creating the ndarray.\n",
      "  newobj = array(item, copy=False, subok=True, ndmin=ndmin)\n"
     ]
    },
    {
     "name": "stdout",
     "output_type": "stream",
     "text": [
      "Выкинули турниров:  77\n"
     ]
    },
    {
     "data": {
      "text/html": [
       "<div>\n",
       "<style scoped>\n",
       "    .dataframe tbody tr th:only-of-type {\n",
       "        vertical-align: middle;\n",
       "    }\n",
       "\n",
       "    .dataframe tbody tr th {\n",
       "        vertical-align: top;\n",
       "    }\n",
       "\n",
       "    .dataframe thead th {\n",
       "        text-align: right;\n",
       "    }\n",
       "</style>\n",
       "<table border=\"1\" class=\"dataframe\">\n",
       "  <thead>\n",
       "    <tr style=\"text-align: right;\">\n",
       "      <th></th>\n",
       "      <th>tournament id</th>\n",
       "      <th>tournament name</th>\n",
       "      <th>type id</th>\n",
       "      <th>type name</th>\n",
       "      <th>club id</th>\n",
       "      <th>club name</th>\n",
       "      <th>players id</th>\n",
       "      <th>mask</th>\n",
       "      <th>points</th>\n",
       "      <th>place</th>\n",
       "    </tr>\n",
       "  </thead>\n",
       "  <tbody>\n",
       "    <tr>\n",
       "      <td>0</td>\n",
       "      <td>4772</td>\n",
       "      <td>Синхрон северных стран. Зимний выпуск</td>\n",
       "      <td>3</td>\n",
       "      <td>Синхрон</td>\n",
       "      <td>45556</td>\n",
       "      <td>Рабочее название</td>\n",
       "      <td>[6212, 18332, 18036, 22799, 15456, 26089]</td>\n",
       "      <td>111111111011111110111111111100010010</td>\n",
       "      <td>28</td>\n",
       "      <td>1</td>\n",
       "    </tr>\n",
       "    <tr>\n",
       "      <td>1</td>\n",
       "      <td>4772</td>\n",
       "      <td>Синхрон северных стран. Зимний выпуск</td>\n",
       "      <td>3</td>\n",
       "      <td>Синхрон</td>\n",
       "      <td>1030</td>\n",
       "      <td>Сборная Бутана</td>\n",
       "      <td>[1585, 40840, 1584, 10998, 16206]</td>\n",
       "      <td>111111111011110100101111011001011010</td>\n",
       "      <td>25</td>\n",
       "      <td>5.5</td>\n",
       "    </tr>\n",
       "    <tr>\n",
       "      <td>2</td>\n",
       "      <td>4772</td>\n",
       "      <td>Синхрон северных стран. Зимний выпуск</td>\n",
       "      <td>3</td>\n",
       "      <td>Синхрон</td>\n",
       "      <td>4252</td>\n",
       "      <td>Ять</td>\n",
       "      <td>[23513, 18168, 21060, 35850, 31332, 10187]</td>\n",
       "      <td>111111111011110101101111001011110000</td>\n",
       "      <td>25</td>\n",
       "      <td>5.5</td>\n",
       "    </tr>\n",
       "    <tr>\n",
       "      <td>3</td>\n",
       "      <td>4772</td>\n",
       "      <td>Синхрон северных стран. Зимний выпуск</td>\n",
       "      <td>3</td>\n",
       "      <td>Синхрон</td>\n",
       "      <td>5444</td>\n",
       "      <td>Эйфью</td>\n",
       "      <td>[36742, 28939, 54289, 15381, 27375]</td>\n",
       "      <td>101111101111111110001101011001111010</td>\n",
       "      <td>25</td>\n",
       "      <td>5.5</td>\n",
       "    </tr>\n",
       "    <tr>\n",
       "      <td>4</td>\n",
       "      <td>4772</td>\n",
       "      <td>Синхрон северных стран. Зимний выпуск</td>\n",
       "      <td>3</td>\n",
       "      <td>Синхрон</td>\n",
       "      <td>40931</td>\n",
       "      <td>Здоровенный Я</td>\n",
       "      <td>[28689, 17720, 30597, 12400, 26988, 69476]</td>\n",
       "      <td>111111101011111101000111001001111110</td>\n",
       "      <td>25</td>\n",
       "      <td>5.5</td>\n",
       "    </tr>\n",
       "  </tbody>\n",
       "</table>\n",
       "</div>"
      ],
      "text/plain": [
       "  tournament id                        tournament name type id type name  \\\n",
       "0          4772  Синхрон северных стран. Зимний выпуск       3   Синхрон   \n",
       "1          4772  Синхрон северных стран. Зимний выпуск       3   Синхрон   \n",
       "2          4772  Синхрон северных стран. Зимний выпуск       3   Синхрон   \n",
       "3          4772  Синхрон северных стран. Зимний выпуск       3   Синхрон   \n",
       "4          4772  Синхрон северных стран. Зимний выпуск       3   Синхрон   \n",
       "\n",
       "  club id         club name                                  players id  \\\n",
       "0   45556  Рабочее название   [6212, 18332, 18036, 22799, 15456, 26089]   \n",
       "1    1030    Сборная Бутана           [1585, 40840, 1584, 10998, 16206]   \n",
       "2    4252               Ять  [23513, 18168, 21060, 35850, 31332, 10187]   \n",
       "3    5444             Эйфью         [36742, 28939, 54289, 15381, 27375]   \n",
       "4   40931     Здоровенный Я  [28689, 17720, 30597, 12400, 26988, 69476]   \n",
       "\n",
       "                                   mask points place  \n",
       "0  111111111011111110111111111100010010     28     1  \n",
       "1  111111111011110100101111011001011010     25   5.5  \n",
       "2  111111111011110101101111001011110000     25   5.5  \n",
       "3  101111101111111110001101011001111010     25   5.5  \n",
       "4  111111101011111101000111001001111110     25   5.5  "
      ]
     },
     "execution_count": 6,
     "metadata": {},
     "output_type": "execute_result"
    }
   ],
   "source": [
    "db_2019, tournaments_ids = build_db_without_players_for_test(tournaments, results, players, 2019)\n",
    "db_2019.head()"
   ]
  },
  {
   "cell_type": "markdown",
   "metadata": {},
   "source": [
    "В первом приближении выкинул 77 турниров, маски которых было невозможно привести к целочисленному типу - то есть они либо были пустые, либо содержали символы x и ?"
   ]
  },
  {
   "cell_type": "markdown",
   "metadata": {},
   "source": [
    "Понятно, что скорее всего кроме некорректных масок в данных могли быть еще какие то проблемы, и я решил уже попарсить все, привести все данные к парам игрок-вопрос и поставить им в соответствие целевое значение. В итоге получил магическое число QUESTIONS_SIZE = 13454728 - такое количество пар игрок-вопрос за 2019 год предполагалось обучать в дальнейшем"
   ]
  },
  {
   "cell_type": "markdown",
   "metadata": {},
   "source": [
    "## 2. Постройте baseline-модель на основе линейной или логистической регрессии, которая будет обучать рейтинг-лист игроков."
   ]
  },
  {
   "cell_type": "markdown",
   "metadata": {},
   "source": [
    "Данных получилось очень много. Изначально хотел обучать на основе датафрейма pandas, но в итоге мой ноутбук с 8 Гб ОЗУ просто не справлялся, на ПК с 16 Гб тоже возникли проблемы. Если для 2020 года еще более или менее что то получалось, то в 2019 году был слишком большой объем данных. В итоге решил использоваль разреженные матрицы. \n",
    "\n",
    "Идея заключается в следующем (использовались подходы из лекции про сусликов и болезни:)) - сделать one_hot_encoder для игроков и для вопросов и обучаться на их основе. Но так как к сожалению некоторые вопросы пришлось выкинуть, да и id игроков шли не по порядку, решил сделать два словаря вопросов и игроков, чтобы ставить с помощью них в соответствие в каком столбце матрицы игрока и вопрос нужно распологать. \n",
    "\n",
    "Кроме этого еще посчитал массив tour_vs_question, который хранит в себе информацию, сколько в каком турнире было вопросов и количество в сумме вопросов до этого турнира, чтобы было удобнее располагать в матрице вопросы. \n",
    "\n",
    "Работал с json в следующем формате: неудачная попытка спарсить означала, что необходимые данные отсутствуют и турнир полностью пропускается. "
   ]
  },
  {
   "cell_type": "code",
   "execution_count": 7,
   "metadata": {},
   "outputs": [],
   "source": [
    "QUESTIONS_SIZE = 13454728\n",
    "\n",
    "def build_db_with_players_and_targets(tournaments, results, players, year):\n",
    "\n",
    "\n",
    "    questions_vs_torneo = dict()\n",
    "    \n",
    "    t_names = list()\n",
    "    t_id = list()\n",
    "    t_type_id = list()\n",
    "    t_type_name = list()\n",
    "\n",
    "    club_id = list()\n",
    "    club_place = list()\n",
    "    club_points = list()\n",
    "    club_names = list()\n",
    "\n",
    "    player_id = list()\n",
    "    player_name = list()\n",
    "    player_patronymic = list()\n",
    "    player_surname = list()\n",
    "    question_num = list()\n",
    "    \n",
    "    target = list()\n",
    "\n",
    "    mask = list()\n",
    "    \n",
    "    pos_id = list()\n",
    "\n",
    "    none_count = 0\n",
    "    question_num_count = 0\n",
    "    _id_count = 0\n",
    "    \n",
    "    questions_count = dict()\n",
    "    \n",
    "    questions_ = np.load('questions_2019_2020_ids_09_04.npy')\n",
    "    players_ = np.load('players_2019_2020_ids_09_04.npy')\n",
    "    \n",
    "    with open('tour_vs_question_09_04.sav', 'rb') as f:\n",
    "        tour_vs_question = pickle.load(f)    \n",
    "        \n",
    "    questions_dict = {\n",
    "        questions_[i] : i for i in range(len(questions_))\n",
    "    }\n",
    "    players_dict = {\n",
    "        players_[i] : i for i in range(len(players_))    \n",
    "    }    \n",
    "    \n",
    "    ohe_hot_player = scipy.sparse.lil_matrix((QUESTIONS_SIZE, np.max(players_)))\n",
    "    ohe_hot_questions = scipy.sparse.lil_matrix((QUESTIONS_SIZE, np.max(questions_)))\n",
    "\n",
    "    for i in tqdm(tournaments):\n",
    "        if tournaments[i]['dateStart'][:4] == str(year):\n",
    "            mask_flag = True\n",
    "            for j in results[tournaments[i]['id']]:\n",
    "                try:\n",
    "                    tmp_mask = int(j['mask'])\n",
    "                    if sum(tournaments[i]['questionQty'].values()) != len(j['mask']) and len(results[tournaments[i]['id']]) != 0:\n",
    "                        mask_flag = False\n",
    "                        break\n",
    "                except Exception:\n",
    "                    mask_flag = False\n",
    "                    break\n",
    "            if len(results[tournaments[i]['id']]) == 0:\n",
    "                mask_flag = False\n",
    "            if mask_flag is True:\n",
    "                question_num_position = tour_vs_question[tournaments[i]['id']][1] - tour_vs_question[tournaments[i]['id']][0]\n",
    "                for j in results[tournaments[i]['id']]:\n",
    "                    for k in j['teamMembers']:\n",
    "                        try:                      \n",
    "                            for l in range(len(j['mask'])):\n",
    "                                \n",
    "                                #try!!!\n",
    "                                tmp_target = int(j['mask'][l])\n",
    "                                tmp_mask = int(j['mask'])\n",
    "                                tmp_club_points = j['questionsTotal']\n",
    "                                tmp_club_place = j['position']\n",
    "                                tmp_t_names = tournaments[i]['name']\n",
    "                                tmp_t_id = tournaments[i]['id']\n",
    "                                tmp_club_id = j['team']['id']\n",
    "                                tmp_club_names = j['team']['name']\n",
    "                                tmp_player_id = players[k['player']['id']]['id']\n",
    "                                \n",
    "                                \n",
    "                                #если все распарсилось, то заполняем!\n",
    "                                target.append(tmp_target)\n",
    "                                pos_id.append(_id_count)\n",
    "\n",
    "\n",
    "                                \n",
    "                                ohe_hot_player[_id_count, players_dict[tmp_player_id]] = 1\n",
    "                                ohe_hot_questions[_id_count, questions_[l + question_num_position]] = 1\n",
    "                                _id_count += 1                                \n",
    "\n",
    "                                \n",
    "                                club_id.append(tmp_club_id)\n",
    "\n",
    "\n",
    "                                question_num.append(l + question_num_position)\n",
    "                                t_id.append(tmp_t_id)\n",
    "                                \n",
    "                                questions_vs_torneo[l + question_num_position] = tmp_t_id\n",
    "                                player_id.append(tmp_player_id)\n",
    "                                try:\n",
    "                                    questions_count[tmp_player_id] += 1\n",
    "                                except KeyError:\n",
    "                                    questions_count[tmp_player_id] = 0\n",
    "                                    \n",
    "\n",
    "                        except Exception:\n",
    "                            none_count += 1\n",
    "                            continue\n",
    "                try:\n",
    "                    question_num_count += len(j['mask']) \n",
    "                    tour_vs_question[tournaments[i]['id']] = (len(j['mask']), question_num_count)\n",
    "                except Exception:\n",
    "                    continue\n",
    "    \n",
    "    return questions_count, questions_vs_torneo, ohe_hot_player, ohe_hot_questions, tour_vs_question, pos_id, question_num, t_id, t_type_id, t_type_name, club_id, club_names, player_id, player_name, player_patronymic, player_surname, club_points, club_place, target"
   ]
  },
  {
   "cell_type": "code",
   "execution_count": 8,
   "metadata": {
    "scrolled": true
   },
   "outputs": [
    {
     "data": {
      "application/vnd.jupyter.widget-view+json": {
       "model_id": "d587d7b1232f4b56b79191e549eaec29",
       "version_major": 2,
       "version_minor": 0
      },
      "text/plain": [
       "HBox(children=(IntProgress(value=0, max=5528), HTML(value='')))"
      ]
     },
     "metadata": {},
     "output_type": "display_data"
    },
    {
     "name": "stdout",
     "output_type": "stream",
     "text": [
      "\n"
     ]
    }
   ],
   "source": [
    "questions_count, questions_vs_torneo, ohe_hot_player, ohe_hot_questions, tour_vs_question, pos_id, question_num, t_id, t_type_id, t_type_name, club_id, club_names, player_id, player_name, player_patronymic, player_surname, club_points, club_place, target = build_db_with_players_and_targets(tournaments, results, players, 2019)"
   ]
  },
  {
   "cell_type": "markdown",
   "metadata": {},
   "source": [
    "Загружаем полученные заранее словари, они пригодятся потом, в том числе при обращении к данным игроков. Полученные матрицы объединил в одну для удобства."
   ]
  },
  {
   "cell_type": "code",
   "execution_count": 9,
   "metadata": {},
   "outputs": [],
   "source": [
    "questions_ = np.load('questions_2019_2020_ids_09_04.npy')\n",
    "players_ = np.load('players_2019_2020_ids_09_04.npy')\n",
    "\n",
    "ohe_hot_player_csr = scipy.sparse.csr_matrix(ohe_hot_player)\n",
    "scipy.sparse.save_npz('ohe_hot_player_csr.npz', ohe_hot_player_csr)\n",
    "\n",
    "ohe_hot_questions = scipy.sparse.csr_matrix(ohe_hot_questions)\n",
    "scipy.sparse.save_npz('ohe_hot_questions.npz', ohe_hot_questions)\n",
    "\n",
    "features = hstack((ohe_hot_player_csr, ohe_hot_questions))"
   ]
  },
  {
   "cell_type": "markdown",
   "metadata": {},
   "source": [
    "Эти словари мне нужны для того, чтобы забирать данные обратно из матрицы."
   ]
  },
  {
   "cell_type": "code",
   "execution_count": 60,
   "metadata": {},
   "outputs": [],
   "source": [
    "players_dict_inverse = {\n",
    "    i : players_[i] for i in range(len(players_))    \n",
    "}\n",
    "\n",
    "questions_dict_inverse = {\n",
    "    i : questions_[i] for i in range(len(questions_))    \n",
    "}\n",
    "\n",
    "questions_vs_torneo = {\n",
    "   question_num[i] :  t_id[i] for i in range(len(question_num))\n",
    "}"
   ]
  },
  {
   "cell_type": "markdown",
   "metadata": {},
   "source": [
    "Обучаем логистическую регрессию. В качестве solver сначала выбирал liblinear, но у него есть определенные минусы, из-за которых решить следующие задачи с помощью sklearn было невозможно. \n",
    "\n",
    "Для того, чтобы дообучать модель я использовал атрибут warm_start=True, который позволяет это делать. То есть в дальнейшем, при вызове метода fit, веса модели будут инициализироваться значениями полученными предыдущим вызовом функции fit. И вот в liblinear такая возможность отсутствует, за то она есть в saga, так что использовал его. \n",
    "\n",
    "Использовал l2 регуляризацию, хотя вроде и без нее получался примерно такой же результат. Вообщем, обучаем модель"
   ]
  },
  {
   "cell_type": "code",
   "execution_count": 11,
   "metadata": {},
   "outputs": [],
   "source": [
    "baseline_model = LogisticRegression(solver='saga', penalty='l2', warm_start=True).fit(features, np.array(target))"
   ]
  },
  {
   "cell_type": "markdown",
   "metadata": {},
   "source": [
    "Идея в следующем: веса модели при игроках будут выше, чем чаще игрок отвечал на вопрос. Для вопросов наблюдается обратная тенденция и это логично, чем чаще вопрос оставался без ответа, тем меньший вес у него был. Посмотрим на топ 20 игроков, отсортированных по весам модели"
   ]
  },
  {
   "cell_type": "code",
   "execution_count": 12,
   "metadata": {},
   "outputs": [
    {
     "name": "stdout",
     "output_type": "stream",
     "text": [
      "#, id, Фамилия, вес модели, количество вопросов в 2019 году\n",
      "1 27403 Руссо 4.0806 1756\n",
      "2 4270 Брутер 3.9394 2200\n",
      "3 28751 Семушин 3.8836 2986\n",
      "4 27822 Савченков 3.8549 2545\n",
      "5 30270 Спешков 3.7593 2896\n",
      "6 30152 Сорожкин 3.7536 3924\n",
      "7 18036 Левандовский 3.6204 1067\n",
      "8 20691 Мереминский 3.6016 1333\n",
      "9 22799 Николенко 3.5383 1760\n",
      "10 30260 Спектор 3.5349 196\n",
      "11 26089 Прокофьева 3.5296 606\n",
      "12 22935 Новиков 3.5188 1265\n",
      "13 18332 Либер 3.5075 2819\n",
      "14 21698 Мосягин 3.5035 792\n",
      "15 87637 Саксонов 3.4985 854\n",
      "16 74001 Мокин 3.4911 899\n",
      "17 13689 Карякин 3.4634 1060\n",
      "18 37047 Юнгер 3.4581 451\n",
      "19 56647 Горелова 3.4548 1696\n"
     ]
    }
   ],
   "source": [
    "rating = np.argsort(baseline_model.coef_[0][:np.max(players_)])\n",
    "j = 1\n",
    "print('#, id, Фамилия, вес модели, количество вопросов в 2019 году')\n",
    "for i in range(-1, -20, -1):\n",
    "    try:\n",
    "        print(j, players_dict_inverse[rating[i]], players[players_dict_inverse[rating[i]]]['surname'], np.round(baseline_model.coef_[0][rating[i]], 4), questions_count[players_dict_inverse[rating[i]]])\n",
    "        j += 1\n",
    "    except Exception:\n",
    "        print(rating[i], '!!!')\n",
    "        continue"
   ]
  },
  {
   "cell_type": "markdown",
   "metadata": {},
   "source": [
    "## 6. Бонус: постройте топ игроков по предсказанной вашей моделью силе игры, а рядом с именами игроков напишите общее число вопросов, которое они сыграли. "
   ]
  },
  {
   "cell_type": "markdown",
   "metadata": {},
   "source": [
    "Я сразу посчитал количество вопросов, которые каждый игрок сыграл в 2019 году в функции build_db_with_players_and_targets и вернул их в словаре questions_count и и использовал его при выводе. \n",
    "\n",
    "Обращает на себя внимание человек по фамилии Спектор - сыграл всего 196 вопросов, но модель его оценила очень высоко. В реальном рейтинга на 2 янвваря 2020 года он занимал 1561 позицию, хотя в 2020 году пошел заметно выше.\n",
    "\n",
    "В любом случае это явный outlier, среди игроков топ 20. Позже можно посмотреть то же самое и для модели, полученной на основе ЕМ-алгоритма."
   ]
  },
  {
   "cell_type": "markdown",
   "metadata": {},
   "source": [
    "## 5. А что там с вопросами? Постройте “рейтинг-лист” турниров по сложности вопросов. Соответствует ли он интуиции (например, на чемпионате мира в целом должны быть сложные вопросы, а на турнирах для школьников — простые)?"
   ]
  },
  {
   "cell_type": "markdown",
   "metadata": {},
   "source": [
    "Cразу, забегая вперед, решил построить рейтинг вопросов и турниров по их сложности, раз уж веса были получены на baseline модели. Для этого сортирую вопросы по весам и, используя словари questions_dict_inverse и questions_vs_torneo, забираю их из матрицы весов. Дальше ставлю их в соответствие турнирам, в которых они были разыграны "
   ]
  },
  {
   "cell_type": "code",
   "execution_count": 13,
   "metadata": {},
   "outputs": [],
   "source": [
    "tournament_range = defaultdict(list)\n",
    "\n",
    "drop_count = 0\n",
    "\n",
    "questions_rating = np.argsort(baseline_model.coef_[0][np.max(players_):])\n",
    "\n",
    "\n",
    "for i in range(len(questions_rating)):\n",
    "    try:\n",
    "        tournament_range[questions_vs_torneo[questions_dict_inverse[questions_rating[i]]]].append(baseline_model.coef_[0][np.max(players_) + questions_dict_inverse[questions_rating[i]]])\n",
    "    except Exception:\n",
    "        drop_count += 1\n",
    "        continue"
   ]
  },
  {
   "cell_type": "code",
   "execution_count": 14,
   "metadata": {},
   "outputs": [],
   "source": [
    "result = list()\n",
    "for i in tournament_range.keys():\n",
    "    result.append([np.sum(tournament_range[i]) / len(tournament_range[i]), i])\n",
    "        \n",
    "result.sort(key = lambda i: i[0], reverse = False)"
   ]
  },
  {
   "cell_type": "markdown",
   "metadata": {},
   "source": [
    "Для оценки турниров, суммировал веса вопросов и потом делил на их количество в турнире, чтобы усреднить. Вот так выглядит топ-20 самых сложных турниров:"
   ]
  },
  {
   "cell_type": "code",
   "execution_count": 15,
   "metadata": {},
   "outputs": [
    {
     "name": "stdout",
     "output_type": "stream",
     "text": [
      "#, Название турнира, id, суммарный вес модели\n",
      "1 Угрюмый Ёрш 5928 -2.2695\n",
      "2 Первенство правого полушария 5159 -2.0433\n",
      "3 Записки охотника 5587 -1.7667\n",
      "4 Кубок городов 5025 -1.6978\n",
      "5 Ускользающая сова 5083 -1.6576\n",
      "6 Знание – Сила VI 5693 -1.6471\n",
      "7 Чемпионат России 5465 -1.534\n",
      "8 Чемпионат Минска. Лига А. Тур четвёртый 5515 -1.5312\n",
      "9 Чемпионат Мира. Этап 2 Группа С 5943 -1.5195\n",
      "10 All Cats Are Beautiful 5741 -1.5066\n",
      "11 Чемпионат Мира. Этап 2. Группа В 5942 -1.5004\n",
      "12 Антибинго 5161 -1.4546\n",
      "13 Кубок Москвы 5795 -1.4437\n",
      "14 Львов зимой. Адвокат 5421 -1.421\n",
      "15 Чемпионат Мира. Этап 1. Группа С 5940 -1.4081\n",
      "16 Ра-II: синхрон \"Борского корабела\" 5098 -1.3984\n",
      "17 Зеркало мемориала памяти Михаила Басса 5930 -1.3909\n",
      "18 Кубок Кайнозоя 5501 -1.3699\n",
      "19 Чемпионат Мира. Этап 3. Группа В 5946 -1.3645\n",
      "20 Чемпионат Мира. Финал. Группа С 5950 -1.3347\n"
     ]
    }
   ],
   "source": [
    "print('#, Название турнира, id, суммарный вес модели')\n",
    "for i in range(20):\n",
    "    print(i + 1, tournaments[result[i][1]]['name'], result[i][1], np.round(result[i][0], 4))"
   ]
  },
  {
   "cell_type": "markdown",
   "metadata": {},
   "source": [
    "А так топ-20 самых легких:"
   ]
  },
  {
   "cell_type": "code",
   "execution_count": 16,
   "metadata": {},
   "outputs": [
    {
     "name": "stdout",
     "output_type": "stream",
     "text": [
      "#, Название турнира, id, суммарный вес модели\n",
      "1 (а)Синхрон-lite. Лига старта. Эпизод V 5013 2.4241\n",
      "2 (а)Синхрон-lite. Лига старта. Эпизод III 5009 2.2278\n",
      "3 (а)Синхрон-lite. Лига старта. Эпизод IX 5702 2.2012\n",
      "4 (а)Синхрон-lite. Лига старта. Эпизод VII 5698 2.1871\n",
      "5 Школьный Синхрон-lite. Выпуск 2.5 5012 2.0777\n",
      "6 Студенческий чемпионат Калининградской области 5457 2.0095\n",
      "7 (а)Синхрон-lite. Лига старта. Эпизод IV 5011 1.9839\n",
      "8 (а)Синхрон-lite. Лига старта. Эпизод VI 5313 1.9517\n",
      "9 Школьная лига. I тур. 5936 1.935\n",
      "10 (а)Синхрон-lite. Лига старта. Эпизод X 5704 1.9029\n",
      "11 Школьная лига. III тур. 5955 1.8888\n",
      "12 Малый кубок Физтеха 6008 1.8247\n",
      "13 Второй тематический турнир имени Джоуи Триббиани 6003 1.7439\n",
      "14 Межфакультетский кубок МГУ. Отбор №4 5601 1.7374\n",
      "15 Школьный Синхрон-lite. Выпуск 2.3 5008 1.7347\n",
      "16 Школьная лига. II тур. 5954 1.7238\n",
      "17 Школьный Синхрон-lite. Выпуск 3.1 5697 1.7012\n",
      "18 Синхрон-lite. Выпуск XXX 5729 1.628\n",
      "19 Лига вузов. IV тур 5855 1.6211\n"
     ]
    }
   ],
   "source": [
    "print('#, Название турнира, id, суммарный вес модели')\n",
    "for i in range(-1, -20, -1):\n",
    "    print(-i, tournaments[result[i][1]]['name'], result[i][1], np.round(result[i][0], 4))"
   ]
  },
  {
   "cell_type": "markdown",
   "metadata": {},
   "source": [
    "Дальше решил, что можно также использовать веса игроков, которые участвовали в турнире, так как представляется, что чем более высокорейтинговые игроки участвуют в турнирах, тем более они сложные. Решил проверить эту идею следующим образом - из результата вычесть средний вес игроков турнира."
   ]
  },
  {
   "cell_type": "code",
   "execution_count": 17,
   "metadata": {},
   "outputs": [],
   "source": [
    "tournaments_2019_ids = list(set(tournaments_ids))\n",
    "rating_dict = {}\n",
    "for i in range(len(rating)):\n",
    "    try:\n",
    "        rating_dict[players_dict_inverse[rating[i]]] = baseline_model.coef_[0][rating[i]]\n",
    "    except KeyError:\n",
    "        continue"
   ]
  },
  {
   "cell_type": "code",
   "execution_count": 18,
   "metadata": {},
   "outputs": [],
   "source": [
    "for k in range(len(result)):\n",
    "    current = list(db_2019[db_2019['tournament id'] == result[k][1]]['players id'])\n",
    "    ans = 0\n",
    "    players_count = 0\n",
    "    for i in range(len(current)):\n",
    "        for j in current[i]:\n",
    "            try:\n",
    "                ans += rating_dict[j]\n",
    "            except KeyError:\n",
    "                ans += 0\n",
    "                \n",
    "            players_count += 1\n",
    "                \n",
    "    result[k][0] -= (ans / players_count)\n",
    "    \n",
    "result.sort(key = lambda i: i[0], reverse = False)    "
   ]
  },
  {
   "cell_type": "markdown",
   "metadata": {},
   "source": [
    "Всего в 2019 году для обучения использовался 551 турнир, и можно посмотреть как располагаются в уточненном силой игроков рейтинге этапы чемпионата мира и различные школьные турниры"
   ]
  },
  {
   "cell_type": "code",
   "execution_count": 19,
   "metadata": {},
   "outputs": [
    {
     "name": "stdout",
     "output_type": "stream",
     "text": [
      "#, Название турнира, id, суммарный вес модели\n",
      "1 Чемпионат Мира. Этап 2. Группа А 5941 -4.3601\n",
      "3 Чемпионат Мира. Финал. Группа А 5948 -4.1526\n",
      "4 Чемпионат Мира. Этап 3. Группа А 5945 -4.1072\n",
      "6 Чемпионат Мира. Этап 1. Группа А 5938 -3.9689\n",
      "7 Чемпионат Мира. Этап 2. Группа В 5942 -3.9572\n",
      "8 Чемпионат Мира. Этап 3. Группа В 5946 -3.8474\n",
      "12 Чемпионат Мира. Финал. Группа В 5949 -3.5692\n",
      "13 Чемпионат Мира. Этап 1. Группа В 5939 -3.5241\n",
      "17 Чемпионат Мира. Этап 1. Группа С 5940 -3.4102\n",
      "23 Чемпионат Мира. Этап 2 Группа С 5943 -3.201\n",
      "30 Чемпионат Мира. Этап 3. Группа С 5947 -2.9905\n",
      "31 Чемпионат Мира. Финал. Группа С 5950 -2.9893\n"
     ]
    }
   ],
   "source": [
    "print('#, Название турнира, id, суммарный вес модели')\n",
    "for i in range(len(result)):\n",
    "    if tournaments[result[i][1]]['name'].lower().find('мира') != -1:\n",
    "        print(i + 1, tournaments[result[i][1]]['name'], result[i][1], np.round(result[i][0], 4))"
   ]
  },
  {
   "cell_type": "code",
   "execution_count": 20,
   "metadata": {},
   "outputs": [
    {
     "name": "stdout",
     "output_type": "stream",
     "text": [
      "#, Название турнира, id, суммарный вес модели\n",
      "392 Чемпионат Кипра среди школьников 5749 -0.5796\n",
      "460 Школьники - взрослым 5645 0.1514\n",
      "462 Школьнае люстэрка 5489 0.1743\n",
      "467 Чемпионат школы №1568 5458 0.2355\n",
      "470 Чемпионат Европы среди школьников 5653 0.2836\n",
      "490 Школьный чемпионат России 5644 0.6653\n",
      "492 Чемпионат Беларуси среди школьников 5488 0.709\n",
      "513 Открытый кубок Дальнего Востока (школьный зачёт) 5635 1.1094\n",
      "531 Школьный Синхрон-lite. Выпуск 3.2 5699 1.7043\n",
      "535 Кубок княгини Ольги среди школьников 5791 2.0311\n",
      "537 Школьный Синхрон-lite. Выпуск 2.4 5010 2.1105\n",
      "539 Школьный Синхрон-lite. Выпуск 2.3 5008 2.2306\n",
      "544 Школьный Синхрон-lite. Выпуск 3.1 5697 2.4726\n",
      "546 Школьный Синхрон-lite. Выпуск 3.3 5701 2.5242\n",
      "547 Школьный Синхрон-lite. Выпуск 2.5 5012 2.5552\n",
      "549 Школьная лига. II тур. 5954 2.8756\n",
      "550 Школьная лига. III тур. 5955 3.0727\n",
      "551 Школьная лига. I тур. 5936 3.1361\n"
     ]
    }
   ],
   "source": [
    "print('#, Название турнира, id, суммарный вес модели')\n",
    "for i in range(len(result)):\n",
    "    if tournaments[result[i][1]]['name'].lower().find('школ') != -1:\n",
    "        print(i + 1, tournaments[result[i][1]]['name'], result[i][1], np.round(result[i][0], 4))"
   ]
  },
  {
   "cell_type": "markdown",
   "metadata": {},
   "source": [
    "## 3. Качество рейтинг-системы оценивается качеством предсказаний результатов турниров. Но сами повопросные результаты наши модели предсказывать вряд ли смогут, ведь неизвестно, насколько сложными окажутся вопросы в будущих турнирах; да и не нужны эти предсказания сами по себе. Поэтому:\n",
    "## предложите способ предсказать результаты нового турнира с известными составами, но неизвестными вопросами, в виде ранжирования команд;\n",
    "## в качестве метрики качества на тестовом наборе давайте считать ранговые корреляции Спирмена и Кендалла (их можно взять в пакете scipy) между реальным ранжированием в результатах турнира и предсказанным моделью, усреднённые по тестовому множеству турниров.\n"
   ]
  },
  {
   "cell_type": "markdown",
   "metadata": {},
   "source": [
    "Забираем информацию о турнирах за 2020 год."
   ]
  },
  {
   "cell_type": "code",
   "execution_count": 47,
   "metadata": {},
   "outputs": [
    {
     "name": "stderr",
     "output_type": "stream",
     "text": [
      "C:\\Users\\MishaYuliaAlina\\Anaconda3\\lib\\site-packages\\numpy\\core\\_asarray.py:102: VisibleDeprecationWarning: Creating an ndarray from ragged nested sequences (which is a list-or-tuple of lists-or-tuples-or ndarrays with different lengths or shapes) is deprecated. If you meant to do this, you must specify 'dtype=object' when creating the ndarray.\n",
      "  return array(a, dtype, copy=False, order=order)\n",
      "C:\\Users\\MishaYuliaAlina\\Anaconda3\\lib\\site-packages\\numpy\\lib\\index_tricks.py:388: VisibleDeprecationWarning: Creating an ndarray from ragged nested sequences (which is a list-or-tuple of lists-or-tuples-or ndarrays with different lengths or shapes) is deprecated. If you meant to do this, you must specify 'dtype=object' when creating the ndarray.\n",
      "  newobj = array(item, copy=False, subok=True, ndmin=ndmin)\n"
     ]
    },
    {
     "name": "stdout",
     "output_type": "stream",
     "text": [
      "Выкинули турниров:  43\n"
     ]
    },
    {
     "data": {
      "text/html": [
       "<div>\n",
       "<style scoped>\n",
       "    .dataframe tbody tr th:only-of-type {\n",
       "        vertical-align: middle;\n",
       "    }\n",
       "\n",
       "    .dataframe tbody tr th {\n",
       "        vertical-align: top;\n",
       "    }\n",
       "\n",
       "    .dataframe thead th {\n",
       "        text-align: right;\n",
       "    }\n",
       "</style>\n",
       "<table border=\"1\" class=\"dataframe\">\n",
       "  <thead>\n",
       "    <tr style=\"text-align: right;\">\n",
       "      <th></th>\n",
       "      <th>tournament id</th>\n",
       "      <th>tournament name</th>\n",
       "      <th>type id</th>\n",
       "      <th>type name</th>\n",
       "      <th>club id</th>\n",
       "      <th>club name</th>\n",
       "      <th>players id</th>\n",
       "      <th>mask</th>\n",
       "      <th>points</th>\n",
       "      <th>place</th>\n",
       "    </tr>\n",
       "  </thead>\n",
       "  <tbody>\n",
       "    <tr>\n",
       "      <td>0</td>\n",
       "      <td>5414</td>\n",
       "      <td>Синхрон северных стран</td>\n",
       "      <td>3</td>\n",
       "      <td>Синхрон</td>\n",
       "      <td>66120</td>\n",
       "      <td>Чатик</td>\n",
       "      <td>[18490, 116901, 8532, 42346, 123190, 22482]</td>\n",
       "      <td>111111111111111111111110111110101111</td>\n",
       "      <td>33</td>\n",
       "      <td>1</td>\n",
       "    </tr>\n",
       "    <tr>\n",
       "      <td>1</td>\n",
       "      <td>5414</td>\n",
       "      <td>Синхрон северных стран</td>\n",
       "      <td>3</td>\n",
       "      <td>Синхрон</td>\n",
       "      <td>312</td>\n",
       "      <td>Социал-демократы</td>\n",
       "      <td>[19599, 3577, 15051, 25724, 34508, 61400]</td>\n",
       "      <td>111111110111111111111011101010111111</td>\n",
       "      <td>31</td>\n",
       "      <td>2.5</td>\n",
       "    </tr>\n",
       "    <tr>\n",
       "      <td>2</td>\n",
       "      <td>5414</td>\n",
       "      <td>Синхрон северных стран</td>\n",
       "      <td>3</td>\n",
       "      <td>Синхрон</td>\n",
       "      <td>2</td>\n",
       "      <td>Афина</td>\n",
       "      <td>[6482, 32458, 36120, 25882, 34846, 30475]</td>\n",
       "      <td>110111111111111111110111111010111011</td>\n",
       "      <td>31</td>\n",
       "      <td>2.5</td>\n",
       "    </tr>\n",
       "    <tr>\n",
       "      <td>3</td>\n",
       "      <td>5414</td>\n",
       "      <td>Синхрон северных стран</td>\n",
       "      <td>3</td>\n",
       "      <td>Синхрон</td>\n",
       "      <td>72338</td>\n",
       "      <td>Невыносимая тяжесть быть Иа</td>\n",
       "      <td>[135968, 157622, 164213, 102479, 134273, 87648]</td>\n",
       "      <td>111111111111110111111110111010101011</td>\n",
       "      <td>30</td>\n",
       "      <td>5</td>\n",
       "    </tr>\n",
       "    <tr>\n",
       "      <td>4</td>\n",
       "      <td>5414</td>\n",
       "      <td>Синхрон северных стран</td>\n",
       "      <td>3</td>\n",
       "      <td>Синхрон</td>\n",
       "      <td>4032</td>\n",
       "      <td>X-promt</td>\n",
       "      <td>[5007, 7737, 29487, 39152, 1352, 66403]</td>\n",
       "      <td>111111110111111111110111100010111111</td>\n",
       "      <td>30</td>\n",
       "      <td>5</td>\n",
       "    </tr>\n",
       "  </tbody>\n",
       "</table>\n",
       "</div>"
      ],
      "text/plain": [
       "  tournament id         tournament name type id type name club id  \\\n",
       "0          5414  Синхрон северных стран       3   Синхрон   66120   \n",
       "1          5414  Синхрон северных стран       3   Синхрон     312   \n",
       "2          5414  Синхрон северных стран       3   Синхрон       2   \n",
       "3          5414  Синхрон северных стран       3   Синхрон   72338   \n",
       "4          5414  Синхрон северных стран       3   Синхрон    4032   \n",
       "\n",
       "                     club name  \\\n",
       "0                        Чатик   \n",
       "1             Социал-демократы   \n",
       "2                        Афина   \n",
       "3  Невыносимая тяжесть быть Иа   \n",
       "4                      X-promt   \n",
       "\n",
       "                                        players id  \\\n",
       "0      [18490, 116901, 8532, 42346, 123190, 22482]   \n",
       "1        [19599, 3577, 15051, 25724, 34508, 61400]   \n",
       "2        [6482, 32458, 36120, 25882, 34846, 30475]   \n",
       "3  [135968, 157622, 164213, 102479, 134273, 87648]   \n",
       "4          [5007, 7737, 29487, 39152, 1352, 66403]   \n",
       "\n",
       "                                   mask points place  \n",
       "0  111111111111111111111110111110101111     33     1  \n",
       "1  111111110111111111111011101010111111     31   2.5  \n",
       "2  110111111111111111110111111010111011     31   2.5  \n",
       "3  111111111111110111111110111010101011     30     5  \n",
       "4  111111110111111111110111100010111111     30     5  "
      ]
     },
     "execution_count": 47,
     "metadata": {},
     "output_type": "execute_result"
    }
   ],
   "source": [
    "db_2020, tournaments_ids = build_db_without_players_for_test(tournaments, results, players, 2020)\n",
    "db_2020.head()"
   ]
  },
  {
   "cell_type": "code",
   "execution_count": 49,
   "metadata": {},
   "outputs": [],
   "source": [
    "tournaments_2020_ids = list(set(tournaments_ids))\n",
    "rating_dict = {}\n",
    "for i in range(len(rating)):\n",
    "    try:\n",
    "        rating_dict[players_dict_inverse[rating[i]]] = baseline_model.coef_[0][rating[i]]\n",
    "    except KeyError:\n",
    "        continue"
   ]
  },
  {
   "cell_type": "markdown",
   "metadata": {},
   "source": [
    "Было решено оценить результаты турниров опять с помощью весов игроков, полученных в безлайн модели. Для этого суммировал веса игроков команды и ранжировал команды по ним. Также считал среднеарифметическое и брал вес лучшего игрока. Результаты получаются примерно одинаковые"
   ]
  },
  {
   "cell_type": "markdown",
   "metadata": {},
   "source": [
    "Сумма весов:"
   ]
  },
  {
   "cell_type": "code",
   "execution_count": 23,
   "metadata": {},
   "outputs": [
    {
     "data": {
      "application/vnd.jupyter.widget-view+json": {
       "model_id": "af2524f72ae84c13a758963a8b4e6d08",
       "version_major": 2,
       "version_minor": 0
      },
      "text/plain": [
       "HBox(children=(IntProgress(value=0, max=151), HTML(value='')))"
      ]
     },
     "metadata": {},
     "output_type": "display_data"
    },
    {
     "name": "stdout",
     "output_type": "stream",
     "text": [
      "\n",
      "Корреляция Спирмена:  0.7700100653811479\n",
      "Корреляция Кендалла:  0.6151267893570874\n"
     ]
    }
   ],
   "source": [
    "spearm = 0\n",
    "kendal = 0\n",
    "\n",
    "\n",
    "for k in tqdm(range(len(tournaments_2020_ids))):\n",
    "    current = list(db_2020[db_2020['tournament id'] == tournaments_2020_ids[k]]['players id'])\n",
    "    current_teams = list(db_2020[db_2020['tournament id'] == tournaments_2020_ids[k]]['club id'])\n",
    "    current_place = list(db_2020[db_2020['tournament id'] == tournaments_2020_ids[k]]['place'])\n",
    "    weights = list()\n",
    "    for i in range(len(current)):\n",
    "        ans = 0\n",
    "        for j in current[i]:\n",
    "            try:\n",
    "                ans += rating_dict[j]\n",
    "            except KeyError:\n",
    "                ans += 0\n",
    "        weights.append(-ans)\n",
    "        \n",
    "    spearm += spearmanr(weights, current_place).correlation\n",
    "    kendal += kendalltau(weights, current_place).correlation\n",
    "    \n",
    "print('Корреляция Спирмена: ', spearm / len(tournaments_2020_ids))\n",
    "print('Корреляция Кендалла: ', kendal / len(tournaments_2020_ids))"
   ]
  },
  {
   "cell_type": "markdown",
   "metadata": {},
   "source": [
    "Среднее арифметическое:"
   ]
  },
  {
   "cell_type": "code",
   "execution_count": 24,
   "metadata": {},
   "outputs": [
    {
     "data": {
      "application/vnd.jupyter.widget-view+json": {
       "model_id": "989a0ccfdf1145649aa85c7619523032",
       "version_major": 2,
       "version_minor": 0
      },
      "text/plain": [
       "HBox(children=(IntProgress(value=0, max=151), HTML(value='')))"
      ]
     },
     "metadata": {},
     "output_type": "display_data"
    },
    {
     "name": "stdout",
     "output_type": "stream",
     "text": [
      "\n",
      "Корреляция Спирмена:  0.7738426972415313\n",
      "Корреляция Кендалла:  0.6176076709277674\n"
     ]
    }
   ],
   "source": [
    "spearm = 0\n",
    "kendal = 0\n",
    "\n",
    "division_zero_delta = 1 ** -6\n",
    "\n",
    "for k in tqdm(range(len(tournaments_2020_ids))):\n",
    "    current = list(db_2020[db_2020['tournament id'] == tournaments_2020_ids[k]]['players id'])\n",
    "    current_teams = list(db_2020[db_2020['tournament id'] == tournaments_2020_ids[k]]['club id'])\n",
    "    current_place = list(db_2020[db_2020['tournament id'] == tournaments_2020_ids[k]]['place'])\n",
    "    weights = list()\n",
    "    for i in range(len(current)):\n",
    "        ans = 0\n",
    "        for j in current[i]:\n",
    "            try:\n",
    "                ans += rating_dict[j]\n",
    "            except KeyError:\n",
    "                ans += 0\n",
    "        weights.append(-ans / (len(current[i]) + division_zero_delta))\n",
    "        \n",
    "    spearm += spearmanr(weights, current_place).correlation\n",
    "    kendal += kendalltau(weights, current_place).correlation\n",
    "    \n",
    "print('Корреляция Спирмена: ', spearm / len(tournaments_2020_ids))\n",
    "print('Корреляция Кендалла: ', kendal / len(tournaments_2020_ids))"
   ]
  },
  {
   "cell_type": "markdown",
   "metadata": {},
   "source": [
    "Вес лучшего игрока команды:"
   ]
  },
  {
   "cell_type": "code",
   "execution_count": 25,
   "metadata": {},
   "outputs": [
    {
     "data": {
      "application/vnd.jupyter.widget-view+json": {
       "model_id": "fd3e6f2457934dbc9af95918640cfede",
       "version_major": 2,
       "version_minor": 0
      },
      "text/plain": [
       "HBox(children=(IntProgress(value=0, max=151), HTML(value='')))"
      ]
     },
     "metadata": {},
     "output_type": "display_data"
    },
    {
     "name": "stdout",
     "output_type": "stream",
     "text": [
      "\n",
      "Корреляция Спирмена:  0.756189248275136\n",
      "Корреляция Кендалла:  0.601705590531267\n"
     ]
    }
   ],
   "source": [
    "spearm = 0\n",
    "kendal = 0\n",
    "\n",
    "\n",
    "for k in tqdm(range(len(tournaments_2020_ids))):\n",
    "    current = list(db_2020[db_2020['tournament id'] == tournaments_2020_ids[k]]['players id'])\n",
    "    current_teams = list(db_2020[db_2020['tournament id'] == tournaments_2020_ids[k]]['club id'])\n",
    "    current_place = list(db_2020[db_2020['tournament id'] == tournaments_2020_ids[k]]['place'])\n",
    "    weights = list()\n",
    "    for i in range(len(current)):\n",
    "        ans = -np.inf\n",
    "        for j in current[i]:\n",
    "            try:\n",
    "                if rating_dict[j] > ans:\n",
    "                    ans = rating_dict[j]\n",
    "            except KeyError:\n",
    "                continue\n",
    "        weights.append(-ans)\n",
    "        \n",
    "    spearm += spearmanr(weights, current_place).correlation\n",
    "    kendal += kendalltau(weights, current_place).correlation\n",
    "    \n",
    "print('Корреляция Спирмена: ', spearm / len(tournaments_2020_ids))\n",
    "print('Корреляция Кендалла: ', kendal / len(tournaments_2020_ids))"
   ]
  },
  {
   "cell_type": "markdown",
   "metadata": {},
   "source": [
    "## 4. Теперь главное: ЧГК — это всё-таки командная игра. Поэтому:\n",
    "## предложите способ учитывать то, что на вопрос отвечают сразу несколько игроков; скорее всего, понадобятся скрытые переменные; не стесняйтесь делать упрощающие предположения, но теперь переменные “игрок X ответил на вопрос Y” при условии данных должны стать зависимыми для игроков одной и той же команды;\n",
    "## разработайте EM-схему для обучения этой модели, реализуйте её в коде;\n",
    "## обучите несколько итераций, убедитесь, что целевые метрики со временем растут (скорее всего, ненамного, но расти должны), выберите лучшую модель, используя целевые метрики.\n"
   ]
  },
  {
   "cell_type": "markdown",
   "metadata": {},
   "source": [
    "Понятно, что предложенная модель очень сильно упрощенная, так как по имеющимся данным невозможно точно сказать кто именно из игроков ответил на вопрос, в безлайн модели предполагается, что если команда ответила на вопрос, то на него ответил и каждый игрок команды. \n",
    "\n",
    "Такое происходит очень редко, ну во всяком случае, наблюдая ЧГК по телевизору, мы чаще всего видим, что появляется несколько идей от пары игроков и вся команда минуту раскручивает эти версии и выбирает какую то из них. Иногда бывает, что кто-то знает факт, о котором идет речь в вопросе и дает ответ без обсуждения. \n",
    "\n",
    "Я думаю, что в спортивной версии происходят подобные процессы, в то время как безлайн модель их не учитывает.\n",
    "Хотелось бы получить модель, которая учитывала, что на вопрос может ответить только несколько игроков из команды. \n",
    "Идея заключается в следующем - попробовать использовать ЕМ-алгоритм для решения этой задачи, а именно:\n",
    "1. В качестве начального состояния можно выбрать веса обученной безлайн модели и попредсказывать на ее основе турниры 2019 года, где предсказанные значения по факту:\n",
    "$sigma(i,j, M) = y_{cj} $\n",
    "команда c ответила на вопрос j. Здесь i это i-й игрок, а M - параметры нашей модели.\n",
    "2. Дальше предположим, что у нас есть некоторая скрытая переменная $z_{ij}$, которая определает, что это именно игрок i ответил на вопрос j. Тогда у нас будет два варианта. В первом случае команда не ответила на вопрос  $y_{cj} = 0$ и соответственно игрок тоже на него не ответил $z_{ij} = 0$. Во втором случае команда ответила на вопрос $y_{cj} = 1$ и необходимо посчитать, что именно этот игрок ответил на этот вопрос. Это можно сделать следующим образом. Посчитаем условную вероятность того, что именно этот игрок ответил на этот вопрос, при условии, что кто то из команды на него ответил:\n",
    "\n",
    "![equation](https://latex.codecogs.com/png.image?\\dpi{110}&space;\\inline&space;z_{ij}&space;=&space;\\frac{sigma(i,j,&space;M)}{1&space;-&space;\\prod\\limits_{c}1&space;-&space;sigma(i_c,j,&space;M))\n",
    "\n",
    "3. После этого можно посмотреть превышен ли порог, при котором можно сказать ответил игрок на вопрос или нет, по умолчанию 0.5 как и в безлайн модели. В этом будет заключается Е-шаг алгоритма.\n",
    "4. На основе полученных значений на М-шаге можно снова обучить модель и далее повторять последовательно шаги 2-3."
   ]
  },
  {
   "cell_type": "markdown",
   "metadata": {},
   "source": [
    "Выполняем шаг 1:"
   ]
  },
  {
   "cell_type": "code",
   "execution_count": 26,
   "metadata": {},
   "outputs": [],
   "source": [
    "em_target = baseline_model.predict_proba(features)[:,1]"
   ]
  },
  {
   "cell_type": "markdown",
   "metadata": {},
   "source": [
    "Выполняем шаги 2 и 3. Сначала считаем условные вероятности, а потом сравниваем их с порогом. Первый порог THRESHOLD отвечает за предсказания на E шаге, второй THRESHOLD_TRUE, за предсказания полученные М-шаге для того, чтобы проверять ответила команда на вопрос или нет. "
   ]
  },
  {
   "cell_type": "code",
   "execution_count": 27,
   "metadata": {},
   "outputs": [
    {
     "data": {
      "application/vnd.jupyter.widget-view+json": {
       "model_id": "d730efd16dd4423bb2ea617f17d553ff",
       "version_major": 2,
       "version_minor": 0
      },
      "text/plain": [
       "HBox(children=(IntProgress(value=0, max=13454728), HTML(value='')))"
      ]
     },
     "metadata": {},
     "output_type": "display_data"
    },
    {
     "name": "stderr",
     "output_type": "stream",
     "text": [
      "C:\\Users\\MishaYuliaAlina\\Anaconda3\\lib\\site-packages\\ipykernel_launcher.py:27: RuntimeWarning: divide by zero encountered in double_scalars\n"
     ]
    },
    {
     "name": "stdout",
     "output_type": "stream",
     "text": [
      "\n"
     ]
    }
   ],
   "source": [
    "current_id = club_id[0]\n",
    "ans = list()\n",
    "ans2 = [1] * tour_vs_question[t_id[i]][0]\n",
    "count = 0\n",
    "THRESHOLD = 0.5\n",
    "THRESHOLD_TRUE = 0.5\n",
    "\n",
    "YES_ANSWER = 1\n",
    "NO_ANSWER = 0\n",
    "\n",
    "new_em_target = list()\n",
    "current_len = tour_vs_question[t_id[i]][0]\n",
    "\n",
    "for i in tqdm(range(len(em_target))):\n",
    "    question_num_position = tour_vs_question[t_id[i]][1] - tour_vs_question[t_id[i]][0]\n",
    "\n",
    "    \n",
    "    if club_id[i] == current_id:\n",
    "        ans.append(em_target[i])\n",
    "        ans2[i % current_len] *= (1 - em_target[i])\n",
    "        count += 1\n",
    "    else:\n",
    "        step = int(count / tour_vs_question[t_id[i]][0])\n",
    "        \n",
    "        for j in range(len(ans)):\n",
    "\n",
    "            if(((ans[j] / (1 - ans2[j % current_len]))  > THRESHOLD) and ans[j] > THRESHOLD_TRUE):\n",
    "                new_em_target.append(YES_ANSWER)\n",
    "            else:\n",
    "                new_em_target.append(NO_ANSWER)\n",
    "\n",
    "        \n",
    "        current_id = club_id[i]\n",
    "        ans = list()\n",
    "        count = 0\n",
    "        ans2 = [1] * tour_vs_question[t_id[i]][0]\n",
    "        current_len = tour_vs_question[t_id[i]][0]\n",
    "        ans.append(em_target[i])\n",
    "\n",
    "step = int(count / tour_vs_question[t_id[i]][0])\n",
    "        \n",
    "for j in range(len(ans)):\n",
    "\n",
    "    if(((ans[j] / (1 - ans2[j % current_len])) > THRESHOLD) and ans[j] > THRESHOLD_TRUE):\n",
    "        new_em_target.append(YES_ANSWER)\n",
    "    else:\n",
    "        new_em_target.append(NO_ANSWER)\n",
    "   "
   ]
  },
  {
   "cell_type": "markdown",
   "metadata": {},
   "source": [
    "На основе полученных предсказания сделаем М-шаг. За счет использования атрибута warm_start=True, модель не будет перезатирать полученные ранее веса, а начнет их уточнять."
   ]
  },
  {
   "cell_type": "code",
   "execution_count": 28,
   "metadata": {},
   "outputs": [
    {
     "data": {
      "text/plain": [
       "LogisticRegression(solver='saga', warm_start=True)"
      ]
     },
     "execution_count": 28,
     "metadata": {},
     "output_type": "execute_result"
    }
   ],
   "source": [
    "baseline_model.fit(features, new_em_target)"
   ]
  },
  {
   "cell_type": "markdown",
   "metadata": {},
   "source": [
    "Посмотрим как изменился рейтинг - игрок Спектор с малым наигрышем вылетел из топ-20."
   ]
  },
  {
   "cell_type": "code",
   "execution_count": 29,
   "metadata": {},
   "outputs": [
    {
     "name": "stdout",
     "output_type": "stream",
     "text": [
      "#, id, Фамилия, вес модели, количество вопросов в 2019 году\n",
      "1 27403 Руссо 13.1431 1756\n",
      "2 4270 Брутер 12.9163 2200\n",
      "3 28751 Семушин 12.8875 2986\n",
      "4 27822 Савченков 12.8275 2545\n",
      "5 30152 Сорожкин 12.5711 3924\n",
      "6 30270 Спешков 12.4743 2896\n",
      "7 20691 Мереминский 12.2551 1333\n",
      "8 18036 Левандовский 12.0227 1067\n",
      "9 22935 Новиков 11.9979 1265\n",
      "10 87637 Саксонов 11.991 854\n",
      "11 74001 Мокин 11.972 899\n",
      "12 37047 Юнгер 11.9634 451\n",
      "13 56647 Горелова 11.9319 1696\n",
      "14 18332 Либер 11.9164 2819\n",
      "15 7008 Гилёв 11.9088 3420\n",
      "16 24384 Пашковский 11.8981 1223\n",
      "17 23737 Островский 11.8912 2087\n",
      "18 13689 Карякин 11.8568 1060\n",
      "19 21698 Мосягин 11.85 792\n"
     ]
    }
   ],
   "source": [
    "rating = np.argsort(baseline_model.coef_[0][:np.max(players_)])\n",
    "j = 1\n",
    "print('#, id, Фамилия, вес модели, количество вопросов в 2019 году')\n",
    "for i in range(-1, -20, -1):\n",
    "    try:\n",
    "        print(j, players_dict_inverse[rating[i]], players[players_dict_inverse[rating[i]]]['surname'], np.round(baseline_model.coef_[0][rating[i]], 4), questions_count[players_dict_inverse[rating[i]]])\n",
    "        j += 1\n",
    "    except Exception:\n",
    "        print(rating[i], '!!!')\n",
    "        continue"
   ]
  },
  {
   "cell_type": "markdown",
   "metadata": {},
   "source": [
    "Далее можно повторять эти шаги, для того, чтобы уточнить полученные веса"
   ]
  },
  {
   "cell_type": "markdown",
   "metadata": {},
   "source": [
    "## 6. Бонус: постройте топ игроков по предсказанной вашей моделью силе игры, а рядом с именами игроков напишите общее число вопросов, которое они сыграли. "
   ]
  },
  {
   "cell_type": "markdown",
   "metadata": {},
   "source": [
    "Хотя Спектор и вылетел из топ-20, позиции Юнгера только укрепились, дальше, если повторить Е и М шаги он пойдет еще выше в топ-10."
   ]
  },
  {
   "cell_type": "markdown",
   "metadata": {},
   "source": [
    "Можно снова попредсказывать турниры за 2020 год - сильно результат не изменился"
   ]
  },
  {
   "cell_type": "code",
   "execution_count": 30,
   "metadata": {},
   "outputs": [],
   "source": [
    "tournaments_2020_ids = list(set(tournaments_ids))\n",
    "rating_dict = {}\n",
    "for i in range(len(rating)):\n",
    "    try:\n",
    "        rating_dict[players_dict_inverse[rating[i]]] = baseline_model.coef_[0][rating[i]]\n",
    "    except KeyError:\n",
    "        continue"
   ]
  },
  {
   "cell_type": "code",
   "execution_count": 31,
   "metadata": {},
   "outputs": [
    {
     "data": {
      "application/vnd.jupyter.widget-view+json": {
       "model_id": "c3cbf3fbecfa4218b21a16aa7cbf5a95",
       "version_major": 2,
       "version_minor": 0
      },
      "text/plain": [
       "HBox(children=(IntProgress(value=0, max=151), HTML(value='')))"
      ]
     },
     "metadata": {},
     "output_type": "display_data"
    },
    {
     "name": "stdout",
     "output_type": "stream",
     "text": [
      "\n",
      "0.76000415014037\n",
      "0.6029662907680069\n"
     ]
    }
   ],
   "source": [
    "spearm = 0\n",
    "kendal = 0\n",
    "\n",
    "\n",
    "for k in tqdm(range(len(tournaments_2020_ids))):\n",
    "    current = list(db_2020[db_2020['tournament id'] == tournaments_2020_ids[k]]['players id'])\n",
    "    current_teams = list(db_2020[db_2020['tournament id'] == tournaments_2020_ids[k]]['club id'])\n",
    "    current_place = list(db_2020[db_2020['tournament id'] == tournaments_2020_ids[k]]['place'])\n",
    "    weights = list()\n",
    "    for i in range(len(current)):\n",
    "        ans = 0\n",
    "        for j in current[i]:\n",
    "            try:\n",
    "                ans += rating_dict[j]\n",
    "            except KeyError:\n",
    "                ans += 0\n",
    "        weights.append(-ans)\n",
    "        \n",
    "    spearm += spearmanr(weights, current_place).correlation\n",
    "    kendal += kendalltau(weights, current_place).correlation\n",
    "    \n",
    "print(spearm / len(tournaments_2020_ids))\n",
    "print(kendal / len(tournaments_2020_ids))"
   ]
  },
  {
   "cell_type": "markdown",
   "metadata": {},
   "source": [
    "Интересно насколько точен предсказанный топ-100 модели от реального рейтинга. Можно взять топ-100 от 2 января 2020 года и посмотреть количество пересечений предсказанного рейтинга с реальным:"
   ]
  },
  {
   "cell_type": "code",
   "execution_count": 32,
   "metadata": {},
   "outputs": [
    {
     "name": "stdout",
     "output_type": "stream",
     "text": [
      "Количество пересечений с реальным рейтингом топ-100 на 2 января 2020 года:  50\n"
     ]
    }
   ],
   "source": [
    "real_top_100 = [28751,27822,30270,27403,4270,18332,23178,33620,116713,6212,15456,7008,28689,19915,22799,95884,32901,23321,90915,6482,3207,32458,2421,10695,110920,86775,18036,74382,23737,42511,23020,33032,26089,56000,27499,15811,29800,36120,505,34365,96330,40877,26640,113703,24341,31315,33456,86795,12313,21233,12747,31493,38458,34846,116757,72211,70750,88067,29989,60149,26173,16837,38018,20814,54035,5328,17296,29531,24384,7890,5990,37761,15595,2954,15217,27701,25819,54136,80593,14786,31190,28260,54696,66764,80897,37718,31898,25177,34936,3438,10586,33792,116758,33509,20691,25882,98594,85216,4121]\n",
    "\n",
    "real_top_100_dict = {\n",
    "    real_top_100[i] : i for i in range(len(real_top_100))\n",
    "}\n",
    "\n",
    "rating = np.argsort(baseline_model.coef_[0][:np.max(players_)])\n",
    "j = 1\n",
    "predicted_top_100 = list()\n",
    "for i in range(-1, -100, -1):\n",
    "    predicted_top_100.append(players_dict_inverse[rating[i]])\n",
    "    \n",
    "none_count = 0\n",
    "for i in predicted_top_100:\n",
    "    try:\n",
    "        real_top_100_dict[i]\n",
    "    except KeyError:\n",
    "        none_count += 1\n",
    "        \n",
    "print('Количество пересечений с реальным рейтингом топ-100 на 2 января 2020 года: ', 100 - none_count)\n",
    "        "
   ]
  },
  {
   "cell_type": "markdown",
   "metadata": {},
   "source": [
    "Получилось 46 пересечений - с учетом базы игроков на 60196 человек кажется, что это не самый плохой результат"
   ]
  },
  {
   "cell_type": "markdown",
   "metadata": {},
   "source": [
    "Можно посмотреть как выглядит топ турниров , полученных на основе ЕМ алгоритма. "
   ]
  },
  {
   "cell_type": "code",
   "execution_count": 35,
   "metadata": {},
   "outputs": [],
   "source": [
    "tournament_range = defaultdict(list)\n",
    "\n",
    "drop_count = 0\n",
    "\n",
    "questions_rating = np.argsort(baseline_model.coef_[0][np.max(players_):])\n",
    "\n",
    "\n",
    "for i in range(len(questions_rating)):\n",
    "    try:\n",
    "        tournament_range[questions_vs_torneo[questions_dict_inverse[questions_rating[i]]]].append(baseline_model.coef_[0][np.max(players_) + questions_dict_inverse[questions_rating[i]]])\n",
    "    except Exception:\n",
    "        drop_count += 1\n",
    "        continue"
   ]
  },
  {
   "cell_type": "code",
   "execution_count": 36,
   "metadata": {},
   "outputs": [],
   "source": [
    "result = list()\n",
    "for i in tournament_range.keys():\n",
    "    result.append([np.sum(tournament_range[i]) / len(tournament_range[i]), i])\n",
    "        \n",
    "result.sort(key = lambda i: i[0], reverse = False)"
   ]
  },
  {
   "cell_type": "code",
   "execution_count": 39,
   "metadata": {},
   "outputs": [
    {
     "name": "stdout",
     "output_type": "stream",
     "text": [
      "#, Название турнира, id, суммарный вес модели\n",
      "1 Угрюмый Ёрш 5928 -6.517\n",
      "2 Первенство правого полушария 5159 -5.875\n",
      "3 Кубок городов 5025 -5.6362\n",
      "4 Записки охотника 5587 -5.1872\n",
      "5 Ускользающая сова 5083 -5.1291\n",
      "6 Чемпионат России 5465 -4.9687\n",
      "7 Серия Premier. Седьмая печать 5412 -4.875\n",
      "8 Тихий Донец: омут первый 5996 -4.7863\n",
      "9 Ра-II: синхрон \"Борского корабела\" 5098 -4.7672\n",
      "10 Знание – Сила VI 5693 -4.5646\n",
      "11 Антибинго 5161 -4.5644\n",
      "12 All Cats Are Beautiful 5741 -4.4975\n",
      "13 Чемпионат Мира. Этап 2. Группа В 5942 -4.4656\n",
      "14 Чемпионат Мира. Этап 3. Группа В 5946 -4.4033\n",
      "15 Мемориал Дмитрия Коноваленко 5303 -4.3928\n",
      "16 Чемпионат Мира. Этап 2. Группа А 5941 -4.3532\n",
      "17 Кубок Москвы 5795 -4.34\n",
      "18 Чемпионат Минска. Лига А. Тур четвёртый 5515 -4.1821\n",
      "19 Чемпионат Мира. Финал. Группа В 5949 -4.1204\n",
      "20 Львов зимой. Адвокат 5421 -4.0488\n"
     ]
    }
   ],
   "source": [
    "print('#, Название турнира, id, суммарный вес модели')\n",
    "for i in range(20):\n",
    "    print(i + 1, tournaments[result[i][1]]['name'], result[i][1], np.round(result[i][0], 4))"
   ]
  },
  {
   "cell_type": "code",
   "execution_count": 40,
   "metadata": {},
   "outputs": [
    {
     "name": "stdout",
     "output_type": "stream",
     "text": [
      "#, Название турнира, id, суммарный вес модели\n",
      "1 (а)Синхрон-lite. Лига старта. Эпизод V 5013 6.5673\n",
      "2 (а)Синхрон-lite. Лига старта. Эпизод III 5009 6.3593\n",
      "3 (а)Синхрон-lite. Лига старта. Эпизод IX 5702 6.0317\n",
      "4 (а)Синхрон-lite. Лига старта. Эпизод VII 5698 5.8723\n",
      "5 (а)Синхрон-lite. Лига старта. Эпизод IV 5011 5.5643\n",
      "6 (а)Синхрон-lite. Лига старта. Эпизод X 5704 5.4822\n",
      "7 Синхрон-lite. Выпуск XXX 5729 5.3699\n",
      "8 (а)Синхрон-lite. Лига старта. Эпизод VI 5313 5.3403\n",
      "9 Студенческий чемпионат Калининградской области 5457 4.9588\n",
      "10 Лига Сибири. VI тур. 5130 4.9526\n",
      "11 KFC 5511 4.9514\n",
      "12 Школьный Синхрон-lite. Выпуск 2.5 5012 4.9207\n",
      "13 Лига Сибири. IV тур. 5128 4.6154\n",
      "14 Лига вузов. IV тур 5855 4.5792\n",
      "15 Синхрон-lite. Выпуск XXIX 5728 4.3978\n",
      "16 Синхрон простых вопросов. Зима 5844 4.3511\n",
      "17 Второй тематический турнир имени Джоуи Триббиани 6003 4.2308\n",
      "18 Кубок Оливье 5924 4.1588\n",
      "19 Лига вузов. III тур 5854 4.0955\n"
     ]
    }
   ],
   "source": [
    "print('#, Название турнира, id, суммарный вес модели')\n",
    "for i in range(-1, -20, -1):\n",
    "    print(-i, tournaments[result[i][1]]['name'], result[i][1], np.round(result[i][0], 4))"
   ]
  },
  {
   "cell_type": "markdown",
   "metadata": {},
   "source": [
    "## Бонус: постройте топ игроков по предсказанной вашей моделью силе игры, а рядом с именами игроков напишите общее число вопросов, которое они сыграли. Скорее всего, вы увидите, что топ занят игроками, которые сыграли совсем мало вопросов, около 100 или даже меньше; если вы поищете их в официальном рейтинге ЧГК, вы увидите, что это какие-то непонятные ноунеймы. В baseline-модели, скорее всего, такой эффект будет гораздо слабее."
   ]
  },
  {
   "cell_type": "markdown",
   "metadata": {},
   "source": [
    "Сначала я попробовал просто выбросить игроков, котрые сыграли меньше 1000 вопросов, для того, чтобы в рейтинге остались действительно опытные игроки. Пар игрок-вопрос получилось порядка 5,5 миллионов - сокращение от бейзлайна почти в три раза. Это не очень честно, так как рейтинг превращается в закрытый клуб. Если игрок не успел наиграть определенное количество вопросов, то он просто не будет никак учитываться. Кроме этого пострадают веса вопросов, а школьные турниры совсем исчезнут из рейтинга.\n",
    "\n",
    "Тем не менее, можно посмотреть, что получилось"
   ]
  },
  {
   "cell_type": "code",
   "execution_count": 7,
   "metadata": {},
   "outputs": [],
   "source": [
    "QUESTIONS_SIZE = 5500090\n",
    "\n",
    "def build_db_with_players_and_targets(tournaments, results, players, year):\n",
    "\n",
    "\n",
    "    questions_vs_torneo = dict()\n",
    "    \n",
    "    t_names = list()\n",
    "    t_id = list()\n",
    "    t_type_id = list()\n",
    "    t_type_name = list()\n",
    "\n",
    "    club_id = list()\n",
    "    club_place = list()\n",
    "    club_points = list()\n",
    "    club_names = list()\n",
    "\n",
    "    player_id = list()\n",
    "    player_name = list()\n",
    "    player_patronymic = list()\n",
    "    player_surname = list()\n",
    "    question_num = list()\n",
    "    \n",
    "    target = list()\n",
    "\n",
    "    mask = list()\n",
    "    \n",
    "    pos_id = list()\n",
    "\n",
    "    none_count = 0\n",
    "    question_num_count = 0\n",
    "    _id_count = 0\n",
    "    \n",
    "    with open('questions_count.sav', 'rb') as f:\n",
    "        questions_count = pickle.load(f)    \n",
    "    \n",
    "    questions_ = np.load('questions_2019_2020_ids_09_04.npy')\n",
    "    players_ = np.load('players_2019_2020_ids_09_04.npy')\n",
    "    \n",
    "    with open('tour_vs_question_09_04.sav', 'rb') as f:\n",
    "        tour_vs_question = pickle.load(f)    \n",
    "        \n",
    "    questions_dict = {\n",
    "        questions_[i] : i for i in range(len(questions_))\n",
    "    }\n",
    "    players_dict = {\n",
    "        players_[i] : i for i in range(len(players_))    \n",
    "    }    \n",
    "    \n",
    "    ohe_hot_player = scipy.sparse.lil_matrix((QUESTIONS_SIZE, np.max(players_)))\n",
    "    ohe_hot_questions = scipy.sparse.lil_matrix((QUESTIONS_SIZE, np.max(questions_)))\n",
    "\n",
    "    for i in tqdm(tournaments):\n",
    "        if tournaments[i]['dateStart'][:4] == str(year):\n",
    "            mask_flag = True\n",
    "            for j in results[tournaments[i]['id']]:\n",
    "                try:\n",
    "                    tmp_mask = int(j['mask'])\n",
    "                    if sum(tournaments[i]['questionQty'].values()) != len(j['mask']) and len(results[tournaments[i]['id']]) != 0:\n",
    "                        mask_flag = False\n",
    "                        break\n",
    "                except Exception:\n",
    "                    mask_flag = False\n",
    "                    break\n",
    "            if len(results[tournaments[i]['id']]) == 0:\n",
    "                mask_flag = False\n",
    "            if mask_flag is True:\n",
    "                question_num_position = tour_vs_question[tournaments[i]['id']][1] - tour_vs_question[tournaments[i]['id']][0]\n",
    "                for j in results[tournaments[i]['id']]:\n",
    "                    for k in j['teamMembers']:\n",
    "                        try:                      \n",
    "                            for l in range(len(j['mask'])):\n",
    "                                \n",
    "                                #try!!!\n",
    "                                tmp_target = int(j['mask'][l])\n",
    "                                tmp_mask = int(j['mask'])\n",
    "                                tmp_club_points = j['questionsTotal']\n",
    "                                tmp_club_place = j['position']\n",
    "                                tmp_t_names = tournaments[i]['name']\n",
    "                                tmp_t_id = tournaments[i]['id']\n",
    "                                tmp_club_id = j['team']['id']\n",
    "                                tmp_club_names = j['team']['name']\n",
    "                                tmp_player_id = players[k['player']['id']]['id']\n",
    "                                \n",
    "                                \n",
    "                                #если все распарсилось, то заполняем!\n",
    "                                if (questions_count[tmp_player_id] > 1000):\n",
    "                                    target.append(tmp_target)\n",
    "                                    pos_id.append(_id_count)\n",
    "\n",
    "\n",
    "\n",
    "                                    ohe_hot_player[_id_count, players_dict[tmp_player_id]] = 1\n",
    "                                    ohe_hot_questions[_id_count, questions_[l + question_num_position]] = 1\n",
    "                                    _id_count += 1                                \n",
    "\n",
    "\n",
    "                                    club_id.append(tmp_club_id)\n",
    "\n",
    "\n",
    "                                    question_num.append(l + question_num_position)\n",
    "                                    t_id.append(tmp_t_id)\n",
    "\n",
    "                                    questions_vs_torneo[l + question_num_position] = tmp_t_id\n",
    "                                    player_id.append(tmp_player_id)\n",
    "\n",
    "                                    \n",
    "\n",
    "                        except Exception:\n",
    "                            none_count += 1\n",
    "                            continue\n",
    "                try:\n",
    "                    question_num_count += len(j['mask']) \n",
    "                    tour_vs_question[tournaments[i]['id']] = (len(j['mask']), question_num_count)\n",
    "                except Exception:\n",
    "                    continue\n",
    "    \n",
    "    return questions_vs_torneo, ohe_hot_player, ohe_hot_questions, tour_vs_question, pos_id, question_num, t_id, t_type_id, t_type_name, club_id, club_names, player_id, player_name, player_patronymic, player_surname, club_points, club_place, target"
   ]
  },
  {
   "cell_type": "code",
   "execution_count": 8,
   "metadata": {},
   "outputs": [
    {
     "data": {
      "application/vnd.jupyter.widget-view+json": {
       "model_id": "571e4e00c2cc4af1ab29aed0f0ef2f14",
       "version_major": 2,
       "version_minor": 0
      },
      "text/plain": [
       "HBox(children=(IntProgress(value=0, max=5528), HTML(value='')))"
      ]
     },
     "metadata": {},
     "output_type": "display_data"
    },
    {
     "name": "stdout",
     "output_type": "stream",
     "text": [
      "\n"
     ]
    }
   ],
   "source": [
    "questions_vs_torneo, ohe_hot_player, ohe_hot_questions, tour_vs_question, pos_id, question_num, t_id, t_type_id, t_type_name, club_id, club_names, player_id, player_name, player_patronymic, player_surname, club_points, club_place, target = build_db_with_players_and_targets(tournaments, results, players, 2019)"
   ]
  },
  {
   "cell_type": "code",
   "execution_count": 11,
   "metadata": {},
   "outputs": [],
   "source": [
    "ohe_hot_player_csr = scipy.sparse.csr_matrix(ohe_hot_player)\n",
    "scipy.sparse.save_npz('ohe_hot_player_csr.npz', ohe_hot_player_csr)\n",
    "\n",
    "ohe_hot_questions = scipy.sparse.csr_matrix(ohe_hot_questions)\n",
    "scipy.sparse.save_npz('ohe_hot_questions.npz', ohe_hot_questions)\n",
    "\n",
    "features = hstack((ohe_hot_player_csr, ohe_hot_questions))"
   ]
  },
  {
   "cell_type": "code",
   "execution_count": 13,
   "metadata": {},
   "outputs": [],
   "source": [
    "baseline_model = LogisticRegression(solver='saga', penalty='l2', warm_start=True).fit(features, np.array(target))"
   ]
  },
  {
   "cell_type": "code",
   "execution_count": 28,
   "metadata": {},
   "outputs": [
    {
     "name": "stdout",
     "output_type": "stream",
     "text": [
      "#, id, Фамилия, вес модели, количество вопросов в 2019 году\n",
      "1 27403 Руссо 2.404 1756\n",
      "2 4270 Брутер 2.2589 2200\n",
      "3 28751 Семушин 2.1979 2986\n",
      "4 27822 Савченков 2.1718 2545\n",
      "5 30270 Спешков 2.0715 2896\n",
      "6 30152 Сорожкин 2.0683 3924\n",
      "7 18036 Левандовский 1.9423 1067\n",
      "8 20691 Мереминский 1.9213 1333\n",
      "9 22935 Новиков 1.8397 1265\n",
      "10 22799 Николенко 1.8286 1760\n",
      "11 18332 Либер 1.8213 2819\n",
      "12 13689 Карякин 1.7853 1060\n",
      "13 56647 Горелова 1.773 1696\n",
      "14 16837 Кудряшова 1.7571 2074\n",
      "15 16332 Крапиль 1.7557 1318\n",
      "16 24384 Пашковский 1.7502 1223\n",
      "17 23737 Островский 1.7396 2087\n",
      "18 1585 Архангельская 1.7388 1354\n",
      "19 34846 Чернин 1.736 1345\n"
     ]
    }
   ],
   "source": [
    "with open('questions_count.sav', 'rb') as f:\n",
    "    questions_count = pickle.load(f) \n",
    "    \n",
    "rating = np.argsort(baseline_model.coef_[0][:np.max(players_)])\n",
    "j = 1\n",
    "print('#, id, Фамилия, вес модели, количество вопросов в 2019 году')\n",
    "for i in range(-1, -20, -1):\n",
    "    try:\n",
    "        print(j, players_dict_inverse[rating[i]], players[players_dict_inverse[rating[i]]]['surname'], np.round(baseline_model.coef_[0][rating[i]], 4), questions_count[players_dict_inverse[rating[i]]])\n",
    "        j += 1\n",
    "    except Exception:\n",
    "        print(rating[i], '!!!')\n",
    "        continue"
   ]
  },
  {
   "cell_type": "markdown",
   "metadata": {},
   "source": [
    "Из-за того, что в модели теперь просто отсутствует информация о многих игроках, качество предсказания турниров за 2020 год сильно падает"
   ]
  },
  {
   "cell_type": "code",
   "execution_count": 50,
   "metadata": {
    "scrolled": true
   },
   "outputs": [
    {
     "data": {
      "application/vnd.jupyter.widget-view+json": {
       "model_id": "6fb5b351ec77445ab526a14973d9d195",
       "version_major": 2,
       "version_minor": 0
      },
      "text/plain": [
       "HBox(children=(IntProgress(value=0, max=151), HTML(value='')))"
      ]
     },
     "metadata": {},
     "output_type": "display_data"
    },
    {
     "name": "stdout",
     "output_type": "stream",
     "text": [
      "\n",
      "0.43797107641269595\n",
      "0.3179085086781409\n"
     ]
    }
   ],
   "source": [
    "spearm = 0\n",
    "kendal = 0\n",
    "\n",
    "\n",
    "for k in tqdm(range(len(tournaments_2020_ids))):\n",
    "    current = list(db_2020[db_2020['tournament id'] == tournaments_2020_ids[k]]['players id'])\n",
    "    current_teams = list(db_2020[db_2020['tournament id'] == tournaments_2020_ids[k]]['club id'])\n",
    "    current_place = list(db_2020[db_2020['tournament id'] == tournaments_2020_ids[k]]['place'])\n",
    "    weights = list()\n",
    "    for i in range(len(current)):\n",
    "        ans = 0\n",
    "        for j in current[i]:\n",
    "            try:\n",
    "                ans += rating_dict[j]\n",
    "            except KeyError:\n",
    "                ans += 0\n",
    "        weights.append(-ans)\n",
    "        \n",
    "    spearm += spearmanr(weights, current_place).correlation\n",
    "    kendal += kendalltau(weights, current_place).correlation\n",
    "    \n",
    "print(spearm / len(tournaments_2020_ids))\n",
    "print(kendal / len(tournaments_2020_ids))"
   ]
  },
  {
   "cell_type": "markdown",
   "metadata": {},
   "source": [
    "За то выросло количество пересечений топ-100 с реальным рейтингом ЧГК - их стало 61."
   ]
  },
  {
   "cell_type": "code",
   "execution_count": 29,
   "metadata": {},
   "outputs": [
    {
     "name": "stdout",
     "output_type": "stream",
     "text": [
      "Количество пересечений с реальным рейтингом топ-100 на 2 января 2020 года:  61\n"
     ]
    }
   ],
   "source": [
    "real_top_100 = [28751,27822,30270,27403,4270,18332,23178,33620,116713,6212,15456,7008,28689,19915,22799,95884,32901,23321,90915,6482,3207,32458,2421,10695,110920,86775,18036,74382,23737,42511,23020,33032,26089,56000,27499,15811,29800,36120,505,34365,96330,40877,26640,113703,24341,31315,33456,86795,12313,21233,12747,31493,38458,34846,116757,72211,70750,88067,29989,60149,26173,16837,38018,20814,54035,5328,17296,29531,24384,7890,5990,37761,15595,2954,15217,27701,25819,54136,80593,14786,31190,28260,54696,66764,80897,37718,31898,25177,34936,3438,10586,33792,116758,33509,20691,25882,98594,85216,4121]\n",
    "\n",
    "real_top_100_dict = {\n",
    "    real_top_100[i] : i for i in range(len(real_top_100))\n",
    "}\n",
    "\n",
    "rating = np.argsort(baseline_model.coef_[0][:np.max(players_)])\n",
    "j = 1\n",
    "predicted_top_100 = list()\n",
    "for i in range(-1, -100, -1):\n",
    "    predicted_top_100.append(players_dict_inverse[rating[i]])\n",
    "    \n",
    "none_count = 0\n",
    "for i in predicted_top_100:\n",
    "    try:\n",
    "        real_top_100_dict[i]\n",
    "    except KeyError:\n",
    "        none_count += 1\n",
    "        \n",
    "print('Количество пересечений с реальным рейтингом топ-100 на 2 января 2020 года: ', 100 - none_count)\n",
    "        "
   ]
  },
  {
   "cell_type": "markdown",
   "metadata": {},
   "source": [
    "Второй вариант более динамический. Идея заключается в следующем - ответы игроков с небольшим наигрышем по вопросам будут зануляться, но информация о них будет аккумулироваться. После того, как количество сыгранных вопросов игроком будет превышать порог, его ответы начнут добавляться в модель, и зануленные данные будут заменены на реальные. Таким образом не будет ситуации, при которой сильный игрок исчезнет из рейтинга. В то же время, у игроков будет стимул (если рейтинг ЧГК является каким то стимулом :)) играть больше турниров. Я опять выбрал порог в 1000 вопросов, но он совсем жесткий, его можно снизить в 2 раза минимум."
   ]
  },
  {
   "cell_type": "code",
   "execution_count": 38,
   "metadata": {},
   "outputs": [],
   "source": [
    "QUESTIONS_SIZE = 13454728\n",
    "\n",
    "def build_db_with_players_and_targets(tournaments, results, players, year):\n",
    "\n",
    "\n",
    "    questions_vs_torneo = dict()\n",
    "    \n",
    "    t_names = list()\n",
    "    t_id = list()\n",
    "    t_type_id = list()\n",
    "    t_type_name = list()\n",
    "\n",
    "    club_id = list()\n",
    "    club_place = list()\n",
    "    club_points = list()\n",
    "    club_names = list()\n",
    "\n",
    "    player_id = list()\n",
    "    player_name = list()\n",
    "    player_patronymic = list()\n",
    "    player_surname = list()\n",
    "    question_num = list()\n",
    "    \n",
    "    target = list()\n",
    "\n",
    "    mask = list()\n",
    "    \n",
    "    pos_id = list()\n",
    "\n",
    "    none_count = 0\n",
    "    question_num_count = 0\n",
    "    _id_count = 0\n",
    "    \n",
    "    with open('questions_count.sav', 'rb') as f:\n",
    "        questions_count = pickle.load(f)    \n",
    "    \n",
    "    questions_ = np.load('questions_2019_2020_ids_09_04.npy')\n",
    "    players_ = np.load('players_2019_2020_ids_09_04.npy')\n",
    "    \n",
    "    with open('tour_vs_question_09_04.sav', 'rb') as f:\n",
    "        tour_vs_question = pickle.load(f)    \n",
    "        \n",
    "    questions_dict = {\n",
    "        questions_[i] : i for i in range(len(questions_))\n",
    "    }\n",
    "    players_dict = {\n",
    "        players_[i] : i for i in range(len(players_))    \n",
    "    }    \n",
    "    \n",
    "    ohe_hot_player = scipy.sparse.lil_matrix((QUESTIONS_SIZE, np.max(players_)))\n",
    "    ohe_hot_questions = scipy.sparse.lil_matrix((QUESTIONS_SIZE, np.max(questions_)))\n",
    "\n",
    "    for i in tqdm(tournaments):\n",
    "        if tournaments[i]['dateStart'][:4] == str(year):\n",
    "            mask_flag = True\n",
    "            for j in results[tournaments[i]['id']]:\n",
    "                try:\n",
    "                    tmp_mask = int(j['mask'])\n",
    "                    if sum(tournaments[i]['questionQty'].values()) != len(j['mask']) and len(results[tournaments[i]['id']]) != 0:\n",
    "                        mask_flag = False\n",
    "                        break\n",
    "                except Exception:\n",
    "                    mask_flag = False\n",
    "                    break\n",
    "            if len(results[tournaments[i]['id']]) == 0:\n",
    "                mask_flag = False\n",
    "            if mask_flag is True:\n",
    "                question_num_position = tour_vs_question[tournaments[i]['id']][1] - tour_vs_question[tournaments[i]['id']][0]\n",
    "                for j in results[tournaments[i]['id']]:\n",
    "                    for k in j['teamMembers']:\n",
    "                        try:                      \n",
    "                            for l in range(len(j['mask'])):\n",
    "                                \n",
    "                                #try!!!\n",
    "                                tmp_target = int(j['mask'][l])\n",
    "                                tmp_mask = int(j['mask'])\n",
    "                                tmp_club_points = j['questionsTotal']\n",
    "                                tmp_club_place = j['position']\n",
    "                                tmp_t_names = tournaments[i]['name']\n",
    "                                tmp_t_id = tournaments[i]['id']\n",
    "                                tmp_club_id = j['team']['id']\n",
    "                                tmp_club_names = j['team']['name']\n",
    "                                tmp_player_id = players[k['player']['id']]['id']\n",
    "                                \n",
    "                                \n",
    "                                #если все распарсилось, то заполняем!\n",
    "                                try:\n",
    "                                    if questions_count[tmp_player_id] > 1000:\n",
    "                                        target.append(tmp_target)\n",
    "                                    else:\n",
    "                                        target.append(0)\n",
    "                                except KeyError:\n",
    "                                    target.append(0)\n",
    "                                    \n",
    "                                pos_id.append(_id_count)\n",
    "\n",
    "\n",
    "                                \n",
    "                                ohe_hot_player[_id_count, players_dict[tmp_player_id]] = 1\n",
    "                                ohe_hot_questions[_id_count, questions_[l + question_num_position]] = 1\n",
    "                                _id_count += 1                                \n",
    "\n",
    "                                \n",
    "                                club_id.append(tmp_club_id)\n",
    "\n",
    "\n",
    "                                question_num.append(l + question_num_position)\n",
    "                                t_id.append(tmp_t_id)\n",
    "                                \n",
    "                                questions_vs_torneo[l + question_num_position] = tmp_t_id\n",
    "                                player_id.append(tmp_player_id)\n",
    "\n",
    "\n",
    "                        except Exception:\n",
    "                            none_count += 1\n",
    "                            continue\n",
    "                try:\n",
    "                    question_num_count += len(j['mask']) \n",
    "                    tour_vs_question[tournaments[i]['id']] = (len(j['mask']), question_num_count)\n",
    "                except Exception:\n",
    "                    continue\n",
    "    \n",
    "    return questions_vs_torneo, ohe_hot_player, ohe_hot_questions, tour_vs_question, pos_id, question_num, t_id, t_type_id, t_type_name, club_id, club_names, player_id, player_name, player_patronymic, player_surname, club_points, club_place, target  "
   ]
  },
  {
   "cell_type": "code",
   "execution_count": 39,
   "metadata": {},
   "outputs": [
    {
     "data": {
      "application/vnd.jupyter.widget-view+json": {
       "model_id": "4acce6b3605f4aec81236932d81f63eb",
       "version_major": 2,
       "version_minor": 0
      },
      "text/plain": [
       "HBox(children=(IntProgress(value=0, max=5528), HTML(value='')))"
      ]
     },
     "metadata": {},
     "output_type": "display_data"
    },
    {
     "name": "stdout",
     "output_type": "stream",
     "text": [
      "\n"
     ]
    }
   ],
   "source": [
    "questions_vs_torneo, ohe_hot_player, ohe_hot_questions, tour_vs_question, pos_id, question_num, t_id, t_type_id, t_type_name, club_id, club_names, player_id, player_name, player_patronymic, player_surname, club_points, club_place, target = build_db_with_players_and_targets(tournaments, results, players, 2019)"
   ]
  },
  {
   "cell_type": "code",
   "execution_count": 40,
   "metadata": {},
   "outputs": [],
   "source": [
    "questions_ = np.load('questions_2019_2020_ids_09_04.npy')\n",
    "players_ = np.load('players_2019_2020_ids_09_04.npy')\n",
    "\n",
    "ohe_hot_player_csr = scipy.sparse.csr_matrix(ohe_hot_player)\n",
    "scipy.sparse.save_npz('ohe_hot_player_csr.npz', ohe_hot_player_csr)\n",
    "\n",
    "ohe_hot_questions = scipy.sparse.csr_matrix(ohe_hot_questions)\n",
    "scipy.sparse.save_npz('ohe_hot_questions.npz', ohe_hot_questions)\n",
    "\n",
    "features = hstack((ohe_hot_player_csr, ohe_hot_questions))"
   ]
  },
  {
   "cell_type": "code",
   "execution_count": 41,
   "metadata": {},
   "outputs": [],
   "source": [
    "baseline_model = LogisticRegression(solver='saga', penalty='l2', warm_start=True).fit(features, np.array(target))"
   ]
  },
  {
   "cell_type": "code",
   "execution_count": 42,
   "metadata": {},
   "outputs": [
    {
     "name": "stdout",
     "output_type": "stream",
     "text": [
      "#, id, Фамилия, вес модели, количество вопросов в 2019 году\n",
      "1 27403 Руссо 8.7957 1756\n",
      "2 4270 Брутер 8.6586 2200\n",
      "3 28751 Семушин 8.6048 2986\n",
      "4 27822 Савченков 8.5758 2545\n",
      "5 30152 Сорожкин 8.4806 3924\n",
      "6 30270 Спешков 8.4786 2896\n",
      "7 18036 Левандовский 8.3211 1067\n",
      "8 20691 Мереминский 8.31 1333\n",
      "9 18332 Либер 8.23 2819\n",
      "10 22799 Николенко 8.2258 1760\n",
      "11 22935 Новиков 8.2252 1265\n",
      "12 56647 Горелова 8.1729 1696\n",
      "13 13689 Карякин 8.1667 1060\n",
      "14 16837 Кудряшова 8.1597 2074\n",
      "15 16332 Крапиль 8.1441 1318\n",
      "16 7008 Гилёв 8.1441 3420\n",
      "17 23737 Островский 8.142 2087\n",
      "18 24384 Пашковский 8.1361 1223\n",
      "19 14786 Коврижных 8.1359 2494\n"
     ]
    }
   ],
   "source": [
    "with open('questions_count.sav', 'rb') as f:\n",
    "    questions_count = pickle.load(f) \n",
    "    \n",
    "rating = np.argsort(baseline_model.coef_[0][:np.max(players_)])\n",
    "j = 1\n",
    "print('#, id, Фамилия, вес модели, количество вопросов в 2019 году')\n",
    "for i in range(-1, -20, -1):\n",
    "    try:\n",
    "        print(j, players_dict_inverse[rating[i]], players[players_dict_inverse[rating[i]]]['surname'], np.round(baseline_model.coef_[0][rating[i]], 4), questions_count[players_dict_inverse[rating[i]]])\n",
    "        j += 1\n",
    "    except Exception:\n",
    "        print(rating[i], '!!!')\n",
    "        continue"
   ]
  },
  {
   "cell_type": "code",
   "execution_count": 43,
   "metadata": {},
   "outputs": [
    {
     "name": "stdout",
     "output_type": "stream",
     "text": [
      "Количество пересечений с реальным рейтингом топ-100 на 2 января 2020 года:  62\n"
     ]
    }
   ],
   "source": [
    "real_top_100 = [28751,27822,30270,27403,4270,18332,23178,33620,116713,6212,15456,7008,28689,19915,22799,95884,32901,23321,90915,6482,3207,32458,2421,10695,110920,86775,18036,74382,23737,42511,23020,33032,26089,56000,27499,15811,29800,36120,505,34365,96330,40877,26640,113703,24341,31315,33456,86795,12313,21233,12747,31493,38458,34846,116757,72211,70750,88067,29989,60149,26173,16837,38018,20814,54035,5328,17296,29531,24384,7890,5990,37761,15595,2954,15217,27701,25819,54136,80593,14786,31190,28260,54696,66764,80897,37718,31898,25177,34936,3438,10586,33792,116758,33509,20691,25882,98594,85216,4121]\n",
    "\n",
    "real_top_100_dict = {\n",
    "    real_top_100[i] : i for i in range(len(real_top_100))\n",
    "}\n",
    "\n",
    "rating = np.argsort(baseline_model.coef_[0][:np.max(players_)])\n",
    "j = 1\n",
    "predicted_top_100 = list()\n",
    "for i in range(-1, -100, -1):\n",
    "    predicted_top_100.append(players_dict_inverse[rating[i]])\n",
    "    \n",
    "none_count = 0\n",
    "for i in predicted_top_100:\n",
    "    try:\n",
    "        real_top_100_dict[i]\n",
    "    except KeyError:\n",
    "        none_count += 1\n",
    "        \n",
    "print('Количество пересечений с реальным рейтингом топ-100 на 2 января 2020 года: ', 100 - none_count)\n",
    "        "
   ]
  },
  {
   "cell_type": "markdown",
   "metadata": {},
   "source": [
    "Пересечение с реальным рейтингом стало еще больше - 62 игрока, вместо 46 из бейзлайна."
   ]
  },
  {
   "cell_type": "markdown",
   "metadata": {},
   "source": [
    "## Бонус: игроки со временем учатся играть лучше (а иногда бывает и наоборот). А в нашей модели получается, что первые неудачные турниры новичка будут тянуть его рейтинг вниз всю жизнь — это нехорошо, рейтинг должен быть достаточно гибким и иметь возможность меняться даже у игроков, отыгравших сотни турниров. Давайте попробуем этого добиться:\n"
   ]
  },
  {
   "cell_type": "markdown",
   "metadata": {},
   "source": [
    "У меня к сожалению не хватило вычислительных ресурсов, но есть идеи, которые можно использовать.\n",
    "\n",
    "Первая заключается во введении в модель константы forgetting factor, с помощью которой информация о старых турнирах будет со временем затухать.\n",
    "\n",
    "Второй вариант не такой мягкий - будем просто отсекать данные по определенному порогу - брать информацию за последний год. Такую идею используют в футболе при подсчете коэффициентов УЕФА для стран.\n",
    "\n",
    "Данные подходы позволят делать рейтинг более гибким, первые неудачи со временем забудутся из-за коэффициента затухания, либо отсекутся по определенному порогу. "
   ]
  },
  {
   "cell_type": "markdown",
   "metadata": {},
   "source": [
    "## Выводы"
   ]
  },
  {
   "cell_type": "markdown",
   "metadata": {},
   "source": [
    "Очень классная задача и очень классная идея применения логистической регрессии для построения рейтинга. Это домашнее задание было для меня очень полезным, я наконец то полностью разобрался с ЕМ алгоритмом и написал попутно, используя лекционнный материал и учебник Бишопа, код для кластеризации с использованием Е и М шагов. Спасибо!"
   ]
  },
  {
   "cell_type": "code",
   "execution_count": null,
   "metadata": {},
   "outputs": [],
   "source": []
  }
 ],
 "metadata": {
  "kernelspec": {
   "display_name": "Python 3",
   "language": "python",
   "name": "python3"
  },
  "language_info": {
   "codemirror_mode": {
    "name": "ipython",
    "version": 3
   },
   "file_extension": ".py",
   "mimetype": "text/x-python",
   "name": "python",
   "nbconvert_exporter": "python",
   "pygments_lexer": "ipython3",
   "version": "3.7.4"
  }
 },
 "nbformat": 4,
 "nbformat_minor": 2
}
