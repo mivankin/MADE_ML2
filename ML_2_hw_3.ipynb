{
 "cells": [
  {
   "cell_type": "markdown",
   "metadata": {},
   "source": [
    "# Продвинутое машинное обучение: \n",
    "# Домашнее задание 3"
   ]
  },
  {
   "cell_type": "markdown",
   "metadata": {},
   "source": [
    "## 1. Реализуйте базовый частотный метод по Шерлоку Холмсу:\n",
    "- подсчитайте частоты букв по корпусам (пунктуацию и капитализацию можно просто опустить, а вот пробелы лучше оставить);\n",
    "- возьмите какие-нибудь тестовые тексты (нужно взять по меньшей мере 2-3 предложения, иначе вряд ли сработает), зашифруйте их посредством случайной перестановки символов;\n",
    "- расшифруйте их таким частотным методом.\n"
   ]
  },
  {
   "cell_type": "markdown",
   "metadata": {},
   "source": [
    "Считываем корпус данных для подсчета статистики встречаемости букв"
   ]
  },
  {
   "cell_type": "code",
   "execution_count": 50,
   "metadata": {},
   "outputs": [],
   "source": [
    "import pandas as pd\n",
    "import numpy as np\n",
    "from collections import Counter\n",
    "from tqdm.notebook import tqdm\n",
    "from IPython.display import clear_output\n",
    "import matplotlib.pyplot as plt\n",
    "%matplotlib inline"
   ]
  },
  {
   "cell_type": "code",
   "execution_count": 2,
   "metadata": {},
   "outputs": [],
   "source": [
    "big_corpus = ''\n",
    "\n",
    "with open('AnnaKarenina.txt', encoding='utf-8') as f:\n",
    "    corpus = f.read().lower()\n",
    "big_corpus += corpus\n",
    "\n",
    "with open('WarAndPeace.txt', encoding='utf-8') as f:\n",
    "    corpus = f.read().lower()    \n",
    "big_corpus += corpus"
   ]
  },
  {
   "cell_type": "markdown",
   "metadata": {},
   "source": [
    "Определим символы, по которым будем фильтровать текст"
   ]
  },
  {
   "cell_type": "code",
   "execution_count": 5,
   "metadata": {},
   "outputs": [
    {
     "data": {
      "text/plain": [
       "array([' ', 'а', 'б', 'в', 'г', 'д', 'е', 'ж', 'з', 'и', 'й', 'к', 'л',\n",
       "       'м', 'н', 'о', 'п', 'р', 'с', 'т', 'у', 'ф', 'х', 'ц', 'ч', 'ш',\n",
       "       'щ', 'ъ', 'ы', 'ь', 'э', 'ю', 'я'], dtype='<U1')"
      ]
     },
     "execution_count": 5,
     "metadata": {},
     "output_type": "execute_result"
    }
   ],
   "source": [
    "chars = np.sort(np.array(list(set(' '.join([chr(i) for i in range(ord('а'), ord('а') + 32)])))))\n",
    "chars"
   ]
  },
  {
   "cell_type": "markdown",
   "metadata": {},
   "source": [
    "Напишем вспомогательные функции:\n",
    "- получения статистик по n-граммам\n",
    "- создания словаря по корпусу данных\n",
    "- кодирования и декодирования текста - по факту просто отображения символов из одного распределения в символы другого распределения\n",
    "- расчета точности дешифрования"
   ]
  },
  {
   "cell_type": "code",
   "execution_count": 6,
   "metadata": {},
   "outputs": [],
   "source": [
    "def get_n_grams(corpus: str, filter: set, n: int) -> list:\n",
    "    ans = list()\n",
    "    \n",
    "    if filter is not None:\n",
    "        filtered = ''\n",
    "        for i in corpus:\n",
    "            if i in filter:\n",
    "                filtered += i\n",
    "            else:\n",
    "                filtered += ' '\n",
    "    else:\n",
    "        filtered = corpus\n",
    "        \n",
    "    for i in range(len(filtered) - n + 1):\n",
    "        ans.append(filtered[i:i + n])\n",
    "        \n",
    "    return ans"
   ]
  },
  {
   "cell_type": "code",
   "execution_count": 7,
   "metadata": {},
   "outputs": [],
   "source": [
    "def create_dict(big_corpus: list):\n",
    "    ans = Counter(big_corpus)\n",
    "\n",
    "    chars_counts = list()\n",
    "    for i in ans.keys():\n",
    "        chars_counts.append([i, ans[i]])\n",
    "        \n",
    "    chars_counts.sort(key = lambda i: i[1], reverse=True)\n",
    "    \n",
    "    return chars_counts"
   ]
  },
  {
   "cell_type": "code",
   "execution_count": 163,
   "metadata": {},
   "outputs": [],
   "source": [
    "def decode(source: list, code: list):\n",
    "    return {\n",
    "        source[i] : code[i] for i in range(len(code))\n",
    "    }"
   ]
  },
  {
   "cell_type": "code",
   "execution_count": 9,
   "metadata": {},
   "outputs": [],
   "source": [
    "def encode(text: str, abc: list):\n",
    "    code = abc.copy()\n",
    "    np.random.shuffle(code)\n",
    "    \n",
    "    encoder = {\n",
    "        abc[i] : code[i] for i in range(len(abc))\n",
    "        \n",
    "    }\n",
    "\n",
    "    enc_text = ''\n",
    "    for i in text:\n",
    "        enc_text += encoder[i]\n",
    "    \n",
    "    return enc_text, code"
   ]
  },
  {
   "cell_type": "code",
   "execution_count": 89,
   "metadata": {},
   "outputs": [],
   "source": [
    "def accuracy(x, y):\n",
    "    ans = 0\n",
    "    for i in range(len(y)):\n",
    "        if x[i] == y[i]:\n",
    "            ans += 1\n",
    "            \n",
    "    return ans / len(x)"
   ]
  },
  {
   "cell_type": "markdown",
   "metadata": {},
   "source": [
    "У меня остался корпус из домашнего задания по NLP с Евгением Онегиным, решил его использовать в качестве тестового текста. Можно взять, например первые 1000 символов произведения."
   ]
  },
  {
   "cell_type": "code",
   "execution_count": 34,
   "metadata": {},
   "outputs": [],
   "source": [
    "with open('onegin.txt', encoding='utf-8') as f:\n",
    "    corpus = f.read().lower()\n",
    "    \n",
    "filtered_text =''\n",
    "for i in corpus[0:1000]:\n",
    "    if i == '\\n':\n",
    "        i = ' '\n",
    "    if i in chars:\n",
    "        filtered_text += i    "
   ]
  },
  {
   "cell_type": "markdown",
   "metadata": {},
   "source": [
    "Закодируем текст. Дополнительно из функции возвращал множество символов в которое отобразился исходный текст для отладки во время выполнения домашнего задания"
   ]
  },
  {
   "cell_type": "code",
   "execution_count": 17,
   "metadata": {},
   "outputs": [
    {
     "name": "stdout",
     "output_type": "stream",
     "text": [
      "Зашифрованное сообщение:  дддуцидмфмфджлукыдзпжьйкыдщэлвч днцъмлдйпдвдгшьншдслйпуцъдцйдшвлбльюджпрфдслжьлвч дчд шзгпдвкмшульюдйпдуцъдпъцдщэчупэдмэшъчудйлшнлдйцдрцбпдуциднлнлфджншнлдждрц юйкуджчмпьюдчдмпйюдчдйцзюдйпдцьыцмфдйчдглъшдщэцзюднлнцпдйчснцпднцвлэжьвцдщц шбчвцъцдслрлв фьюдпушдщцмшгнчдщцщэлв фьюдщпзл юйцдщцмйцжчьюд пнлэжьвцдвсмкыльюдчдмшульюдщэцджпрфднцъмлдбпдзпэьдвцсюупьдьпрфддддддьлндмшул дуц цмцидщцвпжлд пьфдвдщк чдйлдщцзьцвкыдвжпвкгйпидвц птдспвпжлдйлж пмйчндвжпыджвцчыдэцмйкыддмэшсюфд тмуч кдчдэшж лйлдждъпэцпудуцпъцдэцулйлдрпсдщэпмчж цвчиджпидбпдзлждщцсвц юьпдщцсйлнцучьюдвлждцйпъчйдмцрэкидуцидщэчфьп юдэцмч жфдйлдрэпълыдйпвкдъмпдуцбпьдркьюдэцмч чжюдвкдч чдр чжьл чдуцидзчьльп юдьлудйпнцъмлдъш ф дчдфдйцдвэпмпйджпвпэдм фдупйфдддддж шбчвдць чзйцр лъцэцмйцдмц ълучдбч дпъцдцьпедмлвл дьэчдрл лдпбпъцмйцдчдщэцуцьл жфдйлнцйпеджшмюрлдпвъпйчфдыэлйч лджщпэвлддслдйчудыцмч лдщцьцуддппджупйч д\n",
      "Код:  д л р в ъ м п б с ч и н   у й ц щ э ж ь ш я ы е з г а х к ю о т ф\n"
     ]
    }
   ],
   "source": [
    "enc_text, sign = encode(filtered_text, chars)\n",
    "print(\"Зашифрованное сообщение: \", enc_text)\n",
    "print(\"Код: \", *sign)"
   ]
  },
  {
   "cell_type": "markdown",
   "metadata": {},
   "source": [
    "Предобучимся по корпусу \"Война и мир\" и \"Анна Каренина\""
   ]
  },
  {
   "cell_type": "code",
   "execution_count": 18,
   "metadata": {},
   "outputs": [],
   "source": [
    "N_GRAM = 1\n",
    "big_dict = create_dict(get_n_grams(big_corpus, chars, N_GRAM))"
   ]
  },
  {
   "cell_type": "markdown",
   "metadata": {},
   "source": [
    "Посмотрим статистику топ-5 - ожидаемо, больше всего в тексте пробелов, букв О, Е и А."
   ]
  },
  {
   "cell_type": "code",
   "execution_count": 22,
   "metadata": {},
   "outputs": [
    {
     "data": {
      "text/plain": [
       "[[' ', 580964], ['о', 223691], ['е', 166169], ['а', 162313], ['н', 133258]]"
      ]
     },
     "execution_count": 22,
     "metadata": {},
     "output_type": "execute_result"
    }
   ],
   "source": [
    "big_dict[0:5]"
   ]
  },
  {
   "cell_type": "markdown",
   "metadata": {},
   "source": [
    "Частотный метод реализовал следующим способом:\n",
    "- Для зашифрованного текста посчитаем н-граммы\n",
    "- Посчитаем статистики для полученных н-грамм в тексте\n",
    "- Отобразим символы из одного множества в другое по популярности\n",
    "- ???\n",
    "- PTOFIT!!!"
   ]
  },
  {
   "cell_type": "code",
   "execution_count": 23,
   "metadata": {},
   "outputs": [],
   "source": [
    "def freq_analys(enc: str, decode_dict: list, n_grams: int):\n",
    "    enc = get_n_grams(enc, None, n_grams)\n",
    "    ans = Counter(enc)\n",
    "\n",
    "    enc_counts = list()\n",
    "    for i in ans.keys():\n",
    "        enc_counts.append([i, ans[i]])\n",
    "\n",
    "    enc_counts.sort(key = lambda i: i[1], reverse=True)\n",
    "    enc_counts\n",
    "    \n",
    "    ans_dict = {\n",
    "        enc_counts[i][0] : decode_dict[i][0] for i in range(len(enc_counts))\n",
    "    }\n",
    "    \n",
    "    ans = ''\n",
    "    for i in enc:\n",
    "        ans += ans_dict[i]\n",
    "    ans\n",
    "    \n",
    "    return ans"
   ]
  },
  {
   "cell_type": "code",
   "execution_count": 26,
   "metadata": {},
   "outputs": [
    {
     "data": {
      "text/plain": [
       "'   кой ляля ракыч жерстыч удавни ьопла те в хгсьг затекоп от гвашасм ребя зарсавни н игжхе вылгкасм те коп епо уднкед лдгпнк тагьа то боше кой ьаьая рьгьа р боимтык рнлесм н летм н тожм те осчоля тн хапг удожм ьаьое тнзьое ьовадрсво уоигшнвопо забавиясм екг уолгхьн уоудавиясм уежаимто уолторнсм иеьадрсво взлычасм н лгкасм удо ребя ьопла ше жедс возмкес себя      саь лгкаи коиолой уовера иеся в уыин та уожсовыч вревыхтей воиею зевера тариелтнь вреч рвонч долтыч  лдгзмя июлкниы н дгриата р педоек коепо доката без уделнриовнй рей ше жар уозвоимсе уозтаьокнсм вар отепнт лобдый кой уднясеим долниря та бдепач тевы пле кошес бысм долнинрм вы нин бинрсаин кой жнсасеим сак теьопла пгияи н я то вделет ревед лия кетя     ригшнв осинжтобиаподолто лоипакн шни епо осеэ лаваи сдн баиа ешеполто н удокосаиря таьотеэ рглмба евпетня чдатниа руедва  за тнк чолниа уосок  ее ркетни '"
      ]
     },
     "execution_count": 26,
     "metadata": {},
     "output_type": "execute_result"
    }
   ],
   "source": [
    "decode_text = freq_analys(enc_text, big_dict, N_GRAM)[0:1000]\n",
    "decode_text"
   ]
  },
  {
   "cell_type": "code",
   "execution_count": 27,
   "metadata": {},
   "outputs": [
    {
     "name": "stdout",
     "output_type": "stream",
     "text": [
      "Точность:  0.5211912943871707\n"
     ]
    }
   ],
   "source": [
    "print(\"Точность: \", accuracy(filtered_text, decode_text))"
   ]
  },
  {
   "cell_type": "markdown",
   "metadata": {},
   "source": [
    "Точность получилась близкая к подбрасыванию монеты, не очень хороший результат:("
   ]
  },
  {
   "cell_type": "markdown",
   "metadata": {},
   "source": [
    "## Вряд ли в результате получилась такая уж хорошая расшифровка, разве что если вы брали в качестве тестовых данных целые рассказы. Но и Шерлок Холмс был не так уж прост: после буквы E, которая действительно выделяется частотой, дальше он анализировал уже конкретные слова и пытался угадать, какими они могли бы быть. Я не знаю, как запрограммировать такой интуитивный анализ, так что давайте просто сделаем следующий логический шаг:\n",
    "- подсчитайте частоты биграмм (т.е. пар последовательных букв) по корпусам;\n",
    "- проведите тестирование аналогично п.1, но при помощи биграмм."
   ]
  },
  {
   "cell_type": "markdown",
   "metadata": {},
   "source": [
    "Тут все функции для задачи были уже написаны в первом пункте, так что нужно просто пересчитать статистику по корпусу для биграмм и запустить частотный анализ"
   ]
  },
  {
   "cell_type": "code",
   "execution_count": 28,
   "metadata": {},
   "outputs": [
    {
     "data": {
      "text/plain": [
       "'е е  кя  чне и гид г с немсеужлоовантринтьокеслоов  потиолитнаниел тлариого а ал п одотвднекглаяасерилт алегя ланув лью очты мкркуорсти  н д лвс серилдетьм олитнанико ватоб хсиих п олижаы чеодорсти а ал п кя лануенво бто  помоойвеваам ируавживыойроа онятслу о а катол ылейре п кя  чнеелу зау ий с нтуаяслу о  накл ылотн аресвнро недрыет зсти ко в иеттаыйи ко ва ка асои а ал пв скщеиеь  г са й  втвчиоеисас  поно асои елу за тви па й ошлс тви пел тда м ждитьшерато  гоотобхос чарала бтоерилымсяолпеазнысти енегепас  гоь ы улебмн в  голупотиолпеазнысти   евньадпрн аркато  гоь текаькедсьсти атчтняу  ждитьшерато опаажезлоуторсти ко в иы чеодорсти   поното н д лвс сел тлариого ннре пантрваьнме орах  яз ве зме у е лвс се е е е е  ум забо иы чеодпрни кя отбеь ми чне  года эинемо атчт збр с одо  умвшос ва оно   го аопеедалилоов озн домлиускналожне ораотчтгдугерувом эинемо а онде рчтимтей шабо озн дбуов нтнралыд овленоь тееслоове  ируавжн яыв сатицаеозкинауюэтко влеавлю рк т оно  накивсввановиегро к'"
      ]
     },
     "execution_count": 28,
     "metadata": {},
     "output_type": "execute_result"
    }
   ],
   "source": [
    "N_GRAM = 2\n",
    "big_dict = create_dict(get_n_grams(big_corpus, chars, N_GRAM))\n",
    "decode_text = freq_analys(enc_text, big_dict, N_GRAM)[0:1000]\n",
    "decode_text"
   ]
  },
  {
   "cell_type": "code",
   "execution_count": 29,
   "metadata": {},
   "outputs": [
    {
     "name": "stdout",
     "output_type": "stream",
     "text": [
      "Точность:  0.06529209621993128\n"
     ]
    }
   ],
   "source": [
    "print(\"Точность: \", accuracy(filtered_text, decode_text))"
   ]
  },
  {
   "cell_type": "markdown",
   "metadata": {},
   "source": [
    "Тут у меня получился результат намного хуже, если в первом случае можно было выделить структуру текста, понять где точно находятся пробелы и увидеть некоторые слова, похожие на слова из оригинала, то при биграммах и это развалилось. Я сделал вывод, что количество биграмм намного больше, чем символов и сложно просто взять и отобразить одно множество в другое по популярности. Кроме этого, длины сообщения может не хватать для того, чтобы подсчитанные статистики были адекватными"
   ]
  },
  {
   "cell_type": "markdown",
   "metadata": {},
   "source": [
    "## Но и это ещё не всё: биграммы скорее всего тоже далеко не всегда работают. Основная часть задания — в том, как можно их улучшить:\n",
    "- предложите метод обучения перестановки символов в этом задании, основанный на MCMC-сэмплировании, но по-прежнему работающий на основе статистики биграмм;\n",
    "- реализуйте и протестируйте его, убедитесь, что результаты улучшились.\n"
   ]
  },
  {
   "cell_type": "markdown",
   "metadata": {},
   "source": [
    "Наша цель состоит в поиске такой упорядоченной последовательности букв, которая дала бы нам максимальную точность при расшифровывании сообщения. Очевидно, что мы можем просто методом грубой силы перебирать все возможные варианты перестановок, но это слишком долго, до дедлайна по дз точно не успеть. Можно применить МСМС-сэмплирование!\n",
    "За основу возьмем алгоритм, описанный в Бишопе \"Распознавание образов и машинное обучение\" в главе 11.5.2.\n",
    "Можно решить задачу следующим способом:\n",
    "- Делаем потенциальную перестановку 2 случайных символов, равнозначное переходу в новое состояние - это будет наше сэмплирование;\n",
    "- Для текущей последовательности символов и для потенциальной рассчитываем статистики на зашифрованном тексте (правдоподобие);\n",
    "- Получаем оценку состояния. Я считал ее следующим образом. У нас есть априорное распределение, полученное на основе тектов \"Война и Мир\" и \"Анна Каренина\", и есть правдоподобие. Возьмем сумму произведений частот из этих двух распределений каждой n-граммы - это и будет оценка нашего состояния;\n",
    "\n",
    "    $$Score(next, original) =  F_{original} \\bullet F_{next} $$\n",
    "\n",
    "\n",
    "- Если для потенциального состояния полученная оценка выше, чем для текущего, то просто переходим в него;\n",
    "- Если это не так, то как описано в 11.5.2, где говорится, что потенциальное состояние может приняться с определенной вероятьностью, равной min(1, exp(current - next));\n",
    "- и так продолжаем, пока наш алгоритм куда то не сойдется.\n",
    "\n",
    "Задача непростая, потому что нету четкого понимания, когда нужно остановиться и мы всегда начинаем со случайного начального состояния, поэтому результаты от запуска к запуску будут отличаться"
   ]
  },
  {
   "cell_type": "code",
   "execution_count": 84,
   "metadata": {},
   "outputs": [],
   "source": [
    "def score(prob_set, original_set):\n",
    "    ans = 1\n",
    "    \n",
    "    for i in prob_set.keys():\n",
    "        if i in tmp:\n",
    "            ans += prob_set[i]  * original_set[i]\n",
    "            \n",
    "    return ans"
   ]
  },
  {
   "cell_type": "code",
   "execution_count": 71,
   "metadata": {},
   "outputs": [],
   "source": [
    "N_GRAM = 2\n",
    "big_dict = create_dict(get_n_grams(big_corpus, chars, N_GRAM))\n",
    "dict_to_mcmc = {\n",
    "\n",
    "        big_dict[i][0] : big_dict[i][1] for i in range(len(big_dict))\n",
    "    }    "
   ]
  },
  {
   "cell_type": "code",
   "execution_count": 118,
   "metadata": {},
   "outputs": [],
   "source": [
    "def mcmc_analys(n_gram, enc_text, original_dict, epochs=10000):\n",
    "    current_state = np.array(list(chars))\n",
    "    history = []\n",
    "\n",
    "    for epochs in tqdm(range(epochs)):\n",
    "        first_pos = 0\n",
    "        second_pos = 0\n",
    "        while first_pos == second_pos:\n",
    "            first_pos = np.random.randint(0, current_state.shape[0] - 1)\n",
    "            second_pos = np.random.randint(0, current_state.shape[0] - 1)\n",
    "\n",
    "        next_state = current_state.copy()\n",
    "        next_state[[first_pos, second_pos]] = next_state[[second_pos, first_pos]]\n",
    "        dec_dict = decode(chars, current_state)\n",
    "        ans = ''\n",
    "        for i in enc_text:\n",
    "            ans += dec_dict[i]\n",
    "\n",
    "        prob = create_dict(get_n_grams(ans, chars, N_GRAM)) \n",
    "        prob_dict = {\n",
    "\n",
    "        prob[i][0] : prob[i][1] for i in range(len(prob))\n",
    "        }\n",
    "\n",
    "        cur_score = score(prob_dict, original_dict)  \n",
    "\n",
    "\n",
    "        dec_dict = decode(chars, next_state)\n",
    "        ans = ''\n",
    "        for i in enc_text:\n",
    "            ans += dec_dict[i]\n",
    "\n",
    "        prob = create_dict(get_n_grams(ans, chars, N_GRAM))\n",
    "\n",
    "        prob_dict = {\n",
    "\n",
    "            prob[i][0] : prob[i][1] for i in range(len(prob))\n",
    "        }\n",
    "\n",
    "        next_score = score(prob_dict, original_dict)  \n",
    "\n",
    "        acept = min(1, np.exp(next_score - cur_score))\n",
    "        if cur_score > next_score:\n",
    "            best_state = current_state\n",
    "        if acept > np.random.uniform(0,1):\n",
    "            current_state = next_state.copy()\n",
    "\n",
    "        history.append(cur_score)\n",
    "\n",
    "        if epochs % 1000 == 0:\n",
    "            clear_output(True)\n",
    "            plt.plot(history, label=\"loss\")\n",
    "            plt.legend()\n",
    "            plt.show() \n",
    "\n",
    "            print(np.sum(history) / len(history))        \n",
    "\n",
    "            dec_dict = decode(chars, current_state)\n",
    "            ans = ''\n",
    "            for i in enc_text:\n",
    "                ans += dec_dict[i]\n",
    "\n",
    "            print(epochs, ans)\n",
    "            \n",
    "    return ans"
   ]
  },
  {
   "cell_type": "code",
   "execution_count": 85,
   "metadata": {},
   "outputs": [
    {
     "data": {
      "image/png": "[encoded data removed]",
      "text/plain": [
       "<Figure size 432x288 with 1 Axes>"
      ]
     },
     "metadata": {
      "needs_background": "light"
     },
     "output_type": "display_data"
    },
    {
     "name": "stdout",
     "output_type": "stream",
     "text": [
      "-175285.58515720477\n",
      "9000    мой дуду самых честных правил когда не в эюткю занемог он юважать себу заставил и лючэе выдюмать не мог его пример дрюгим наюка но боже мой какау скюка с больным сидеть и день и ночь не отходу ни эагю прочь какое низкое коварство полюживого забавлуть емю подюэки поправлуть печально подносить лекарство вздыхать и дюмать про себу когда же черт возьмет тебу      так дюмал молодой повеса лету в пыли на почтовых всевыэней волещ зевеса наследник всех своих родных  дрюзьу лщдмилы и рюслана с героем моего романа без предисловий сей же час позвольте познакомить вас онегин добрый мой приутель родилсу на брегах невы где может быть родились вы или блистали мой читатель там некогда гюлул и у но вреден север длу мену     слюжив отличноблагородно долгами жил его отеш давал три бала ежегодно и промоталсу наконеш сюдьба евгениу хранила сперва  за ним ходила потом  ее сменил \n",
      "\n",
      "Точность:  0.8854524627720504\n"
     ]
    }
   ],
   "source": [
    "print(\"Точность: \", accuracy(filtered_text, mcmc_analys(n_gram=2, enc_text=enc_text, original_dict=dict_to_mcmc)))"
   ]
  },
  {
   "cell_type": "markdown",
   "metadata": {},
   "source": [
    "Оценку можно поменять. Например, она будет не очень удобной, если мы будем реализовывать алгоритм на ЯП без поддержки больших чисел, нам придется контролировать переполнение. \n",
    "Как вариант, можно оценить текущее состояние следующим образом:\n",
    "\n",
    "$$Score(next, original) = \\Pi F_{original}^{F_{next}} $$\n",
    "\n",
    "Очевидно, что такая оценка будет выше, чем более похожее состояние к оригинальному мы получим. Для удобства расчетов прологарифмируем ее:\n",
    "\n",
    "$$Score(next, original) = \\Sigma \\log_2 F_{original} \\bullet {F_{next}} $$"
   ]
  },
  {
   "cell_type": "code",
   "execution_count": 130,
   "metadata": {},
   "outputs": [],
   "source": [
    "def score(prob_set, original_set):\n",
    "    ans = 1\n",
    "    \n",
    "    for i in prob_set.keys():\n",
    "        if i in tmp:\n",
    "            ans += prob_set[i]  * np.log(original_set[i])\n",
    "            \n",
    "    return ans"
   ]
  },
  {
   "cell_type": "code",
   "execution_count": 69,
   "metadata": {},
   "outputs": [
    {
     "data": {
      "image/png": "[encoded data removed]",
      "text/plain": [
       "<Figure size 432x288 with 1 Axes>"
      ]
     },
     "metadata": {
      "needs_background": "light"
     },
     "output_type": "display_data"
    },
    {
     "name": "stdout",
     "output_type": "stream",
     "text": [
      "7742.296354434655\n",
      "9000    мой дюдю самых честных правил когда не в шутку занемог он уважать себю заставил и лучше выдумать не мог его пример другим наука но боже мой какаю скука с больным сидеть и день и ночь не отходю ни шагу прочь какое низкое коварство полуживого забавлють ему подушки поправлють печально подносить лекарство вздыхать и думать про себю когда же черт возьмет тебю      так думал молодой повеса летю в пыли на почтовых всевышней волещ зевеса наследник всех своих родных  друзью лщдмилы и руслана с героем моего романа без предисловий сей же час позвольте познакомить вас онегин добрый мой приютель родилсю на брегах невы где может быть родились вы или блистали мой читатель там некогда гулюл и ю но вреден север длю меню     служив отличноблагородно долгами жил его отец давал три бала ежегодно и промоталсю наконец судьба евгению хранила сперва  за ним ходила потом  ее сменил \n",
      "\n",
      "Точность:  0.9759450171821306\n"
     ]
    }
   ],
   "source": [
    "print(\"Точность: \", accuracy(filtered_text, mcmc_analys(n_gram=2, enc_text=enc_text, original_dict=dict_to_mcmc)))"
   ]
  },
  {
   "cell_type": "markdown",
   "metadata": {},
   "source": [
    "Оценка получается выше!"
   ]
  },
  {
   "cell_type": "markdown",
   "metadata": {},
   "source": [
    "## Расшифруйте сообщение:\n",
    "←⇠⇒↟↹↷⇊↹↷↟↤↟↨←↹↝⇛⇯↳⇴⇒⇈↝⇊↾↹↟⇒↟↹⇷⇛⇞↨↟↹↝⇛⇯↳⇴⇒⇈↝⇊↾↹↨←⇌⇠↨↹⇙↹⇸↨⇛↙⇛↹⇠⇛⇛↲⇆←↝↟↞↹⇌⇛↨⇛⇯⇊↾↹⇒←↙⇌⇛↹⇷⇯⇛⇞↟↨⇴↨⇈↹⇠⇌⇛⇯←←↹↷⇠←↙⇛↹↷⇊↹↷⇠←↹⇠↤←⇒⇴⇒↟↹⇷⇯⇴↷↟⇒⇈↝⇛↹↟↹⇷⇛⇒⇙⇞↟↨←↹↳⇴⇌⇠↟↳⇴⇒⇈↝⇊↾↹↲⇴⇒⇒↹⇰⇴↹⇷⇛⇠⇒←↤↝←←↹⇞←↨↷←⇯↨⇛←↹⇰⇴↤⇴↝↟←↹⇌⇙⇯⇠⇴↹↘⇛↨↞↹⇌⇛↝←⇞↝⇛↹↞↹↝↟⇞←↙⇛↹↝←↹⇛↲←⇆⇴⇏\n",
    "\n",
    "Или это (они одинаковые, второй вариант просто на случай проблем с юникодом):\n",
    "დჳჵჂႨშႼႨშჂხჂჲდႨსႹႭჾႣჵისႼჰႨჂჵჂႨႲႹႧჲჂႨსႹႭჾႣჵისႼჰႨჲდႩჳჲႨჇႨႠჲႹქႹႨჳႹႹჱჶდსჂႽႨႩႹჲႹႭႼჰႨჵდქႩႹႨႲႭႹႧჂჲႣჲიႨჳႩႹႭდდႨშჳდქႹႨშႼႨშჳდႨჳხდჵႣჵჂႨႲႭႣშჂჵისႹႨჂႨႲႹჵჇႧჂჲდႨჾႣႩჳჂჾႣჵისႼჰႨჱႣჵჵႨეႣႨႲႹჳჵდხსდდႨႧდჲშდႭჲႹდႨეႣხႣსჂდႨႩჇႭჳႣႨႾႹჲႽႨႩႹსდႧსႹႨႽႨსჂႧდქႹႨსდႨႹჱდჶႣნ\n"
   ]
  },
  {
   "cell_type": "markdown",
   "metadata": {},
   "source": [
    "Для удобства отобразим символы в алфавит русского языка"
   ]
  },
  {
   "cell_type": "code",
   "execution_count": null,
   "metadata": {},
   "outputs": [],
   "source": [
    "string = '←⇠⇒↟↹↷⇊↹↷↟↤↟↨←↹↝⇛⇯↳⇴⇒⇈↝⇊↾↹↟⇒↟↹⇷⇛⇞↨↟↹↝⇛⇯↳⇴⇒⇈↝⇊↾↹↨←⇌⇠↨↹⇙↹⇸↨⇛↙⇛↹⇠⇛⇛↲⇆←↝↟↞↹⇌⇛↨⇛⇯⇊↾↹⇒←↙⇌⇛↹⇷⇯⇛⇞↟↨⇴↨⇈↹⇠⇌⇛⇯←←↹↷⇠←↙⇛↹↷⇊↹↷⇠←↹⇠↤←⇒⇴⇒↟↹⇷⇯⇴↷↟⇒⇈↝⇛↹↟↹⇷⇛⇒⇙⇞↟↨←↹↳⇴⇌⇠↟↳⇴⇒⇈↝⇊↾↹↲⇴⇒⇒↹⇰⇴↹⇷⇛⇠⇒←↤↝←←↹⇞←↨↷←⇯↨⇛←↹⇰⇴↤⇴↝↟←↹⇌⇙⇯⇠⇴↹↘⇛↨↞↹⇌⇛↝←⇞↝⇛↹↞↹↝↟⇞←↙⇛↹↝←↹⇛↲←⇆⇴⇏'"
   ]
  },
  {
   "cell_type": "code",
   "execution_count": 153,
   "metadata": {},
   "outputs": [
    {
     "data": {
      "text/plain": [
       "'щчзмкгекгмнмдщкуфлтцзвуепкмзмкафсдмкуфлтцзвуепкдщичдкбкждфхфкчффрощум кифдфлепкзщхифкалфсмдцдвкчифлщщкгчщхфкгекгчщкчнщзцзмкалцгмзвуфкмкафзбсмдщктцичмтцзвуепкрцззкшцкафчзщнущщксщдгщлдфщкшцнцумщкиблчцкъфд кифущсуфк кумсщхфкущкфрщоцй'"
      ]
     },
     "execution_count": 153,
     "metadata": {},
     "output_type": "execute_result"
    }
   ],
   "source": [
    "t_abc = list(set(string))\n",
    "t_dict = {\n",
    "    t_abc[i] : chars[i] for i in range(len(t_abc))\n",
    "}\n",
    "\n",
    "enc_text = ''\n",
    "for i in string:\n",
    "    enc_text += t_dict[i]\n",
    "    \n",
    "enc_text"
   ]
  },
  {
   "cell_type": "markdown",
   "metadata": {},
   "source": [
    "Попробуем расшифровать на биграммах"
   ]
  },
  {
   "cell_type": "code",
   "execution_count": 161,
   "metadata": {},
   "outputs": [],
   "source": [
    "N_GRAM = 2\n",
    "big_dict = create_dict(get_n_grams(big_corpus, chars, N_GRAM))\n",
    "dict_to_mcmc = {\n",
    "\n",
    "        big_dict[i][0] : big_dict[i][1] for i in range(len(big_dict))\n",
    "    }    "
   ]
  },
  {
   "cell_type": "code",
   "execution_count": 165,
   "metadata": {},
   "outputs": [
    {
     "data": {
      "image/png": "[encoded data removed]",
      "text/plain": [
       "<Figure size 432x288 with 1 Axes>"
      ]
     },
     "metadata": {
      "needs_background": "light"
     },
     "output_type": "display_data"
    },
    {
     "name": "stdout",
     "output_type": "stream",
     "text": [
      "2079.131016594664\n",
      "19000 если вы вимите норжальный или почти норжальный текст у этого соодшению который легко прочитать скорее всего вы все смелали правильно и получите жаксижальный далл за послемнее четвертое замание курса хотю конечно ю ничего не одешаб\n",
      "\n"
     ]
    },
    {
     "data": {
      "text/plain": [
       "'ески вы видите норжакьный ики почти норжакьный телст у этого сообшеним лоторый кегло прочитать слорее всего вы все сдекаки правикьно и покучите жалсижакьный бакк за поскеднее четвертое задание лурса хотм лонечно м ничего не обешаф'"
      ]
     },
     "execution_count": 165,
     "metadata": {},
     "output_type": "execute_result"
    }
   ],
   "source": [
    "mcmc_analys(n_gram=2, enc_text=enc_text, original_dict=dict_to_mcmc, epochs=20000)"
   ]
  },
  {
   "cell_type": "markdown",
   "metadata": {},
   "source": [
    "Видимо оригинальное сообщение:"
   ]
  },
  {
   "cell_type": "code",
   "execution_count": null,
   "metadata": {},
   "outputs": [],
   "source": [
    "original_text = 'если вы видите нормальный или почти нормальный текст у этого сообщению который легко прочитать скорее всего вы все сделали правильно и получите максимальный балл за последнее четвертое задание курса хотя конечно я ничего не обещаю'"
   ]
  },
  {
   "cell_type": "code",
   "execution_count": 166,
   "metadata": {},
   "outputs": [],
   "source": [
    "decode_text = 'ески вы видите норжакьный ики почти норжакьный телст у этого сообшеним лоторый кегло прочитать слорее всего вы все сдекаки правикьно и покучите жалсижакьный бакк за поскеднее четвертое задание лурса хотм лонечно м ничего не обешаф'"
   ]
  },
  {
   "cell_type": "code",
   "execution_count": 167,
   "metadata": {},
   "outputs": [
    {
     "data": {
      "text/plain": [
       "0.8695652173913043"
      ]
     },
     "execution_count": 167,
     "metadata": {},
     "output_type": "execute_result"
    }
   ],
   "source": [
    "accuracy(original_text, decode_text)"
   ]
  },
  {
   "cell_type": "markdown",
   "metadata": {},
   "source": [
    "Попробуем расшифровать на триграммах"
   ]
  },
  {
   "cell_type": "code",
   "execution_count": 139,
   "metadata": {},
   "outputs": [],
   "source": [
    "N_GRAM = 3\n",
    "big_dict = create_dict(get_n_grams(big_corpus, chars, N_GRAM))\n",
    "dict_to_mcmc = {\n",
    "\n",
    "        big_dict[i][0] : big_dict[i][1] for i in range(len(big_dict))\n",
    "    }    "
   ]
  },
  {
   "cell_type": "code",
   "execution_count": 154,
   "metadata": {},
   "outputs": [
    {
     "data": {
      "image/png": "[encoded data removed]",
      "text/plain": [
       "<Figure size 432x288 with 1 Axes>"
      ]
     },
     "metadata": {
      "needs_background": "light"
     },
     "output_type": "display_data"
    },
    {
     "name": "stdout",
     "output_type": "stream",
     "text": [
      "1519.8039005738594\n",
      "19000 если вы видите нормальный или почти нормальный текст у этого сообщению который легко прочитать скорее всего вы все сделали правильно и получите максимальный балл за последнее четвертое задание курса хотю конечно ю ничего не обещаъ\n",
      "\n"
     ]
    },
    {
     "data": {
      "text/plain": [
       "'если вы видите нормалюный или почти нормалюный текст у этого сообщениь который легко прочитатю скорее всего вы все сделали правилюно и получите максималюный балл за последнее четвертое задание курса хоть конечно ь ничего не обещаж'"
      ]
     },
     "execution_count": 154,
     "metadata": {},
     "output_type": "execute_result"
    }
   ],
   "source": [
    "mcmc_analys(n_gram=3, enc_text=enc_text, original_dict=dict_to_mcmc, epochs=20000)"
   ]
  },
  {
   "cell_type": "code",
   "execution_count": 158,
   "metadata": {},
   "outputs": [],
   "source": [
    "decode_text = 'если вы видите нормальный или почти нормальный текст у этого сообщению который легко прочитать скорее всего вы все сделали правильно и получите максимальный балл за последнее четвертое задание курса хотю конечно ю ничего не обещаъ'"
   ]
  },
  {
   "cell_type": "code",
   "execution_count": 159,
   "metadata": {},
   "outputs": [
    {
     "data": {
      "text/plain": [
       "0.9869565217391304"
      ]
     },
     "execution_count": 159,
     "metadata": {},
     "output_type": "execute_result"
    }
   ],
   "source": [
    "accuracy(original_text, decode_text)"
   ]
  },
  {
   "cell_type": "markdown",
   "metadata": {},
   "source": [
    "На триграммах получили ошибку только в буквах ю и я\n",
    "\n",
    "З.Ы. На самом деле, чтобы получить такой результат пришлось очень много раз перезапускать алгоритм, так как он очень зависим от начального состояния и того куда мы будем переходить"
   ]
  },
  {
   "cell_type": "markdown",
   "metadata": {},
   "source": [
    "## Бонус: какие вы можете придумать применения для этой модели? Пляшущие человечки ведь не так часто встречаются в жизни (хотя встречаются! и это самое потрясающее во всей этой истории, но об этом я расскажу потом)."
   ]
  },
  {
   "cell_type": "markdown",
   "metadata": {},
   "source": [
    "Именно для задачи с текстами, возможно в ситуации с испорченной кодировкой, когда вместо оригинальных символов отображаются некие иероглифы и прочитать его невозможно"
   ]
  },
  {
   "cell_type": "markdown",
   "metadata": {},
   "source": [
    "Еще идея, но просто относительно алгоритма, без привязки к тестам: у меня есть обученная модель, которую можно использовать. Но порядок фичей для нее перепутан, информация в каком порядке нужно подавать данные утеряна. Можно использовать такой алгоритм, переставлять фичи и пытаться максимизировать скор."
   ]
  },
  {
   "cell_type": "markdown",
   "metadata": {},
   "source": [
    "## Выводы"
   ]
  },
  {
   "cell_type": "markdown",
   "metadata": {},
   "source": [
    "Домашнее задание очень интересное, в процессе пересмотрел две лекции, по кодированию и передаче сообщений и по сэмплированию. Удалось на практике разобраться как это работает.\n",
    "Дополнительно изучил, что писал об этом Бишоп. \n",
    "\n",
    "Спасибо вам за полученные знания!"
   ]
  },
  {
   "cell_type": "code",
   "execution_count": null,
   "metadata": {},
   "outputs": [],
   "source": []
  }
 ],
 "metadata": {
  "kernelspec": {
   "display_name": "Python 3",
   "language": "python",
   "name": "python3"
  },
  "language_info": {
   "codemirror_mode": {
    "name": "ipython",
    "version": 3
   },
   "file_extension": ".py",
   "mimetype": "text/x-python",
   "name": "python",
   "nbconvert_exporter": "python",
   "pygments_lexer": "ipython3",
   "version": "3.7.4"
  }
 },
 "nbformat": 4,
 "nbformat_minor": 2
}
